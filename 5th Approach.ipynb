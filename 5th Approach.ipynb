{
 "cells": [
  {
   "cell_type": "code",
   "execution_count": 1,
   "id": "85fb5d15",
   "metadata": {},
   "outputs": [],
   "source": [
    "import pickle\n",
    "import matplotlib.pyplot as plt\n",
    "import numpy as np\n",
    "import h5py\n",
    "from tensorflow.keras.models import load_model\n",
    "import pandas as pd\n",
    "import seaborn as sns\n",
    "import cv2\n",
    "import tensorflow as tf\n",
    "from tensorflow.keras.preprocessing.image import ImageDataGenerator\n",
    "from tqdm import tqdm\n",
    "import os\n",
    "from sklearn.utils import shuffle\n",
    "from sklearn.model_selection import train_test_split\n",
    "\n",
    "#################### Importing wheigts #####################################\n",
    "from tensorflow.keras.applications import EfficientNetB0\n",
    "from tensorflow.keras.applications import EfficientNetB4\n",
    "from tensorflow.keras.applications import VGG16\n",
    "from tensorflow.keras.applications import VGG19\n",
    "from tensorflow.keras.applications import mobilenet_v2\n",
    "from tensorflow.keras.applications import mobilenet_v3\n",
    "from tensorflow.keras.applications import NASNetMobile\n",
    "from tensorflow.keras.applications import NASNetLarge, Xception\n",
    "#########################################################\n",
    "\n",
    "from tensorflow.keras.callbacks import EarlyStopping, ReduceLROnPlateau, TensorBoard, ModelCheckpoint, CSVLogger\n",
    "from sklearn.metrics import classification_report,confusion_matrix\n",
    "import ipywidgets as widgets\n",
    "import io\n",
    "from PIL import Image\n",
    "from IPython.display import display,clear_output\n",
    "from warnings import filterwarnings\n",
    "import pandas as pd"
   ]
  },
  {
   "cell_type": "code",
   "execution_count": 2,
   "id": "fe2cea8b",
   "metadata": {},
   "outputs": [
    {
     "data": {
      "text/plain": [
       "22"
      ]
     },
     "execution_count": 2,
     "metadata": {},
     "output_type": "execute_result"
    }
   ],
   "source": [
    "import gc\n",
    "gc.collect()"
   ]
  },
  {
   "cell_type": "code",
   "execution_count": 3,
   "id": "3727644b",
   "metadata": {},
   "outputs": [],
   "source": [
    "image_size = 224\n",
    "def_labels = ['glioma_tumor','meningioma_tumor','pituitary_tumor']"
   ]
  },
  {
   "cell_type": "code",
   "execution_count": null,
   "id": "e6a300d0",
   "metadata": {},
   "outputs": [],
   "source": []
  },
  {
   "cell_type": "code",
   "execution_count": null,
   "id": "1418add6",
   "metadata": {},
   "outputs": [],
   "source": [
    "\"ResNet152V2 Implementation : Best Model\"\n",
    "ResNet152V2 = ResNet152V2(weights='imagenet',include_top=False,input_shape=(image_size,image_size,3))\n",
    "model = ResNet152V2.output\n",
    "model = tf.keras.layers.GlobalAveragePooling2D()(model)\n",
    "model = tf.keras.layers.Dropout(rate=0.5)(model)\n",
    "model = tf.keras.layers.Dense(4,activation='softmax')(model)\n",
    "model = tf.keras.models.Model(inputs=ResNet152V2.input, outputs = model)"
   ]
  },
  {
   "cell_type": "code",
   "execution_count": null,
   "id": "d8f1e4a5",
   "metadata": {},
   "outputs": [],
   "source": [
    "opt = SGD(lr=0.01)\n",
    "model.compile(loss='categorical_crossentropy',optimizer = opt, metrics= ['accuracy'])"
   ]
  },
  {
   "cell_type": "code",
   "execution_count": null,
   "id": "00d11ddf",
   "metadata": {},
   "outputs": [],
   "source": [
    "tensorboard = TensorBoard(log_dir = 'logs')\n",
    "csv_logger = CSVLogger('/kaggle/working/ResNet152V2.csv',separator=\",\")\n",
    "checkpoint = ModelCheckpoint(\"ResNet152V2.h5\",monitor=\"val_accuracy\",save_best_only=True,mode=\"auto\",verbose=1)\n",
    "reduce_lr = ReduceLROnPlateau(monitor = 'val_accuracy', factor = 0.5, patience = 2, min_delta = 0.001,\n",
    "                              mode='auto',verbose=1)"
   ]
  },
  {
   "cell_type": "code",
   "execution_count": null,
   "id": "f1df8924",
   "metadata": {},
   "outputs": [],
   "source": [
    "Train_Dir = 'C:\\\\Users\\\\Eurus\\\\Desktop\\\\B.Sc_Project\\\\Data\\\\Training'\n",
    "Test_Dir = 'C:\\\\Users\\\\Eurus\\\\Desktop\\\\B.Sc_Project\\\\Data\\\\Testing'"
   ]
  },
  {
   "cell_type": "code",
   "execution_count": null,
   "id": "56c0548c",
   "metadata": {},
   "outputs": [],
   "source": [
    "GT_features = {}\n",
    "root = 'C:\\\\Users\\\\Eurus\\\\Desktop\\\\B.Sc_Project\\\\Data\\\\Training\\\\glioma_tumor'\n",
    "for idx in os.listdir(root):\n",
    "    # Read them from their path\n",
    "    path = os.path.join(root,idx)\n",
    "    # Load each one of them\n",
    "    img = image.load_img(path, target_size=(224, 224))\n",
    "    # Prep them \n",
    "    img_data = image.img_to_array(img)\n",
    "    img_data = np.expand_dims(img_data, axis=0)\n",
    "    img_data = preprocess_input(img_data)\n",
    "    # Extract the features\n",
    "    features = EfficientNetB0.predict(img_data)\n",
    "    \"\"\"Faltten them all and then append them to a dictionary\"\"\"    \n",
    "    features = features.flatten()\n",
    "    GT_features[idx] = features\n",
    "    "
   ]
  },
  {
   "cell_type": "code",
   "execution_count": null,
   "id": "42a34568",
   "metadata": {},
   "outputs": [],
   "source": [
    "len(GT_features['GLIOMA_TUMOR_TR_AUG__0_1334593.jpg'])"
   ]
  },
  {
   "cell_type": "code",
   "execution_count": null,
   "id": "c770c28b",
   "metadata": {},
   "outputs": [],
   "source": [
    "GT_features_train = pd.DataFrame()\n",
    "for key, value in GT_features.items():\n",
    "    temp_df = pd.DataFrame(value)\n",
    "    temp_df['key'] = key\n",
    "    GT_features_train = GT_features_train.append(temp_df, ignore_index=True)\n",
    "GT_features_train.head()"
   ]
  },
  {
   "cell_type": "code",
   "execution_count": null,
   "id": "879c8596",
   "metadata": {},
   "outputs": [],
   "source": []
  },
  {
   "cell_type": "code",
   "execution_count": null,
   "id": "f1578577",
   "metadata": {},
   "outputs": [],
   "source": []
  },
  {
   "cell_type": "code",
   "execution_count": null,
   "id": "e1c104aa",
   "metadata": {},
   "outputs": [],
   "source": []
  }
 ],
 "metadata": {
  "kernelspec": {
   "display_name": "GPU-2022",
   "language": "python",
   "name": "gpu-2022"
  },
  "language_info": {
   "codemirror_mode": {
    "name": "ipython",
    "version": 3
   },
   "file_extension": ".py",
   "mimetype": "text/x-python",
   "name": "python",
   "nbconvert_exporter": "python",
   "pygments_lexer": "ipython3",
   "version": "3.9.7"
  }
 },
 "nbformat": 4,
 "nbformat_minor": 5
}
