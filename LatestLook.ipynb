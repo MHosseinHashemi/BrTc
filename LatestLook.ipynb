{
 "cells": [
  {
   "cell_type": "markdown",
   "id": "6b6d7d3c",
   "metadata": {},
   "source": [
    "# Import libraries"
   ]
  },
  {
   "cell_type": "code",
   "execution_count": 1,
   "id": "c6f4d0a5",
   "metadata": {
    "execution": {
     "iopub.execute_input": "2022-12-17T19:18:30.226621Z",
     "iopub.status.busy": "2022-12-17T19:18:30.225591Z",
     "iopub.status.idle": "2022-12-17T19:18:42.169949Z",
     "shell.execute_reply": "2022-12-17T19:18:42.168822Z",
     "shell.execute_reply.started": "2022-12-17T19:18:30.226498Z"
    }
   },
   "outputs": [],
   "source": [
    "import pickle\n",
    "import matplotlib.pyplot as plt\n",
    "import numpy as np\n",
    "import h5py\n",
    "from tensorflow.keras.models import load_model\n",
    "import seaborn as sns\n",
    "import cv2\n",
    "import tensorflow as tf\n",
    "from tensorflow.keras.preprocessing.image import ImageDataGenerator\n",
    "from tqdm import tqdm\n",
    "import os\n",
    "from sklearn.utils import shuffle\n",
    "from sklearn.model_selection import train_test_split\n",
    "\n",
    "#################### Importing wheigts #####################################\n",
    "from tensorflow.keras.applications import EfficientNetB0\n",
    "from tensorflow.keras.applications import EfficientNetB5\n",
    "from tensorflow.keras.applications import MobileNet\n",
    "from tensorflow.keras.applications import MobileNetV3Large\n",
    "from tensorflow.keras.applications import VGG16\n",
    "from tensorflow.keras.applications import VGG19\n",
    "from tensorflow.keras.applications.resnet_v2 import ResNet101V2\n",
    "from tensorflow.keras.applications.resnet_v2 import ResNet152V2\n",
    "from tensorflow.keras.applications import Xception\n",
    "#########################################################\n",
    "\n",
    "from tensorflow.keras.callbacks import EarlyStopping, ReduceLROnPlateau, TensorBoard, ModelCheckpoint, CSVLogger\n",
    "from sklearn.metrics import classification_report,confusion_matrix\n",
    "import ipywidgets as widgets\n",
    "import io\n",
    "from PIL import Image\n",
    "from IPython.display import display,clear_output\n",
    "from warnings import filterwarnings\n",
    "import pandas as pd\n",
    "from tensorflow.keras.optimizers import SGD"
   ]
  },
  {
   "cell_type": "code",
   "execution_count": 2,
   "id": "17f3a37c",
   "metadata": {
    "execution": {
     "iopub.execute_input": "2022-12-17T19:19:43.578149Z",
     "iopub.status.busy": "2022-12-17T19:19:43.577506Z",
     "iopub.status.idle": "2022-12-17T19:19:43.742910Z",
     "shell.execute_reply": "2022-12-17T19:19:43.741606Z",
     "shell.execute_reply.started": "2022-12-17T19:19:43.578114Z"
    }
   },
   "outputs": [
    {
     "data": {
      "text/plain": [
       "22"
      ]
     },
     "execution_count": 2,
     "metadata": {},
     "output_type": "execute_result"
    }
   ],
   "source": [
    "import gc\n",
    "gc.collect()"
   ]
  },
  {
   "cell_type": "markdown",
   "id": "e7b022ac",
   "metadata": {},
   "source": [
    "# Prep"
   ]
  },
  {
   "cell_type": "markdown",
   "id": "42207650",
   "metadata": {},
   "source": [
    "First rename all the files in order to be sure of the results of augmentation"
   ]
  },
  {
   "cell_type": "code",
   "execution_count": null,
   "id": "6e8ae504",
   "metadata": {
    "execution": {
     "iopub.execute_input": "2022-12-17T15:23:04.936655Z",
     "iopub.status.busy": "2022-12-17T15:23:04.936124Z",
     "iopub.status.idle": "2022-12-17T15:23:04.943451Z",
     "shell.execute_reply": "2022-12-17T15:23:04.942556Z",
     "shell.execute_reply.started": "2022-12-17T15:23:04.936619Z"
    }
   },
   "outputs": [],
   "source": [
    "# import os\n",
    " \n",
    "# os.chdir('C:\\\\Users\\\\Eurus\\\\Desktop\\\\B.Sc_Project\\\\Data\\\\Testing\\\\pituitary_tumor')\n",
    "# print(os.getcwd())\n",
    " \n",
    "# for count, f in enumerate(os.listdir()):\n",
    "#     f_name, f_ext = os.path.splitext(f)\n",
    "#     f_name = \"PT_\" + str(count)\n",
    " \n",
    "#     new_name = f'{f_name}{f_ext}'\n",
    "#     os.rename(f, new_name)"
   ]
  },
  {
   "cell_type": "code",
   "execution_count": 5,
   "id": "3a5c6e3a",
   "metadata": {
    "execution": {
     "iopub.execute_input": "2022-12-17T19:19:50.597193Z",
     "iopub.status.busy": "2022-12-17T19:19:50.596833Z",
     "iopub.status.idle": "2022-12-17T19:19:50.602346Z",
     "shell.execute_reply": "2022-12-17T19:19:50.601184Z",
     "shell.execute_reply.started": "2022-12-17T19:19:50.597162Z"
    }
   },
   "outputs": [],
   "source": [
    "# Defining Global Variables\n",
    "image_size = 224\n",
    "def_labels = ['glioma_tumor','no_tumor','meningioma_tumor','pituitary_tumor']\n",
    "# root = 'C:\\\\Users\\\\Eurus\\\\Desktop\\\\B.Sc_Project\\\\Data'\n",
    "# destination = 'C:\\\\Users\\\\Eurus\\\\Desktop\\\\B.Sc_Project\\\\Data\\\\Augmented'"
   ]
  },
  {
   "cell_type": "code",
   "execution_count": null,
   "id": "6e8889b5",
   "metadata": {
    "execution": {
     "iopub.execute_input": "2022-12-17T15:23:07.719405Z",
     "iopub.status.busy": "2022-12-17T15:23:07.719028Z",
     "iopub.status.idle": "2022-12-17T15:23:07.725085Z",
     "shell.execute_reply": "2022-12-17T15:23:07.723969Z",
     "shell.execute_reply.started": "2022-12-17T15:23:07.719371Z"
    }
   },
   "outputs": [],
   "source": [
    "# def train_data_augmentation(idx):\n",
    "    \n",
    "#     \"\"\"Defining Image augmenter\"\"\"\n",
    "#     train_datagen = ImageDataGenerator(\n",
    "#     zca_whitening=True,\n",
    "#     zca_epsilon=0.00001,\n",
    "#     rotation_range=30,\n",
    "#     width_shift_range=0.17,\n",
    "#     height_shift_range=0.17,\n",
    "#     brightness_range=[1.0,2.25],\n",
    "#     shear_range=10.0,\n",
    "#     channel_shift_range=-5.0,\n",
    "#     fill_mode='nearest',\n",
    "#     horizontal_flip=True,\n",
    "#     vertical_flip=True,\n",
    "#         )\n",
    "    \n",
    "    \n",
    "#     \"\"\"Now we are going to iterate over each label and augment the corresponding images and save them in the different dir\"\"\"\n",
    "#     k = 0\n",
    "#     folderPath = os.path.join(root,'Training',idx) \n",
    "#     for j in tqdm(os.listdir(folderPath)):\n",
    "#         for batch in train_datagen.flow_from_directory(\n",
    "#                         \"C:\\\\Users\\\\Eurus\\\\Desktop\\\\B.Sc_Project\\\\Data\\\\Training\",\n",
    "#                         target_size=(150,150),\n",
    "#                         batch_size=32,\n",
    "#                         shuffle=True,\n",
    "#                         class_mode='categorical',\n",
    "#                         save_to_dir= f\"C:\\\\Users\\\\Eurus\\\\Desktop\\\\B.Sc_Project\\\\Data\\\\Augmented\\\\TrainData_Agmented\\\\{idx}\",\n",
    "#                         save_format=\"jpg\",\n",
    "#                         save_prefix=f'{idx.upper()}_TR_AUG_'):\n",
    "#                         k += 1\n",
    "#                         if k >= 10: \n",
    "#                             break  \n",
    "            \n",
    "#     return train_generator\n",
    "            "
   ]
  },
  {
   "cell_type": "code",
   "execution_count": null,
   "id": "78191a4a",
   "metadata": {
    "execution": {
     "iopub.execute_input": "2022-12-17T15:23:08.280712Z",
     "iopub.status.busy": "2022-12-17T15:23:08.279557Z",
     "iopub.status.idle": "2022-12-17T15:23:08.286500Z",
     "shell.execute_reply": "2022-12-17T15:23:08.285328Z",
     "shell.execute_reply.started": "2022-12-17T15:23:08.280665Z"
    }
   },
   "outputs": [],
   "source": [
    "# def test_data_augmentation(idx):        \n",
    "#     \"\"\"Defining Image augmenter\"\"\"\n",
    "#     # We dont need to Augment the Test Data, atleast not yet! Just resize and shuffle them inside their directory\n",
    "#     validation_datagen = ImageDataGenerator(\n",
    "#     zca_whitening=True,\n",
    "#     zca_epsilon=0.00001,\n",
    "#     rotation_range=30,\n",
    "#     width_shift_range=0.17,\n",
    "#     height_shift_range=0.17,\n",
    "#     brightness_range=[1.0,2.25],\n",
    "#     shear_range=10.0,\n",
    "#     channel_shift_range=-5.0,\n",
    "#     fill_mode='nearest',\n",
    "#     horizontal_flip=True,\n",
    "#     vertical_flip=True\n",
    "#     )\n",
    "    \n",
    "    \n",
    "#     \"\"\"Now we are going to iterate over each label and augment the corresponding images and save them in the different dir\"\"\"    \n",
    "#     k = 0\n",
    "#     folderPath = os.path.join(root,'Testing',idx)    \n",
    "#     for j in tqdm(os.listdir(folderPath)):   \n",
    "#         for batch in validation_datagen.flow_from_directory(\n",
    "#                         \"C:\\\\Users\\\\Eurus\\\\Desktop\\\\B.Sc_Project\\\\Data\\\\Testing\",\n",
    "#                         target_size=(150,150),\n",
    "#                         batch_size=32,\n",
    "#                         save_to_dir=f\"C:\\\\Users\\\\Eurus\\\\Desktop\\\\B.Sc_Project\\\\Data\\\\Augmented\\\\TestData_Augmented\\\\{idx}\",\n",
    "#                         save_format=\"jpg\",\n",
    "#                         save_prefix=f'{idx.upper()}_TS_AUG_',\n",
    "#                         class_mode='categorical',\n",
    "#                         shuffle=True):\n",
    "#                         k += 1\n",
    "#                         if k>= 10: \n",
    "#                             break  \n",
    "    \n",
    "#     return validation_generator"
   ]
  },
  {
   "cell_type": "markdown",
   "id": "71bcb219",
   "metadata": {},
   "source": [
    "# Defining a function to create CNN model"
   ]
  },
  {
   "cell_type": "code",
   "execution_count": null,
   "id": "13e935df",
   "metadata": {
    "_kg_hide-output": true,
    "execution": {
     "iopub.execute_input": "2022-12-17T15:23:10.239966Z",
     "iopub.status.busy": "2022-12-17T15:23:10.238988Z",
     "iopub.status.idle": "2022-12-17T15:23:10.249413Z",
     "shell.execute_reply": "2022-12-17T15:23:10.248444Z",
     "shell.execute_reply.started": "2022-12-17T15:23:10.239919Z"
    }
   },
   "outputs": [],
   "source": [
    "\"EfficientNetB5 Implementation\"\n",
    "# EfficientNetB5 = EfficientNetB5(weights='imagenet',include_top=False,input_shape=(image_size,image_size,3))\n",
    "# model = EfficientNetB5.output\n",
    "# model = tf.keras.layers.GlobalAveragePooling2D()(model)\n",
    "# model = tf.keras.layers.Dropout(rate=0.5)(model)\n",
    "# model = tf.keras.layers.Dense(4,activation='softmax')(model)\n",
    "# model = tf.keras.models.Model(inputs=EfficientNetB5.input, outputs = model)"
   ]
  },
  {
   "cell_type": "code",
   "execution_count": null,
   "id": "8ab37b20",
   "metadata": {
    "execution": {
     "iopub.execute_input": "2022-12-17T15:23:10.752284Z",
     "iopub.status.busy": "2022-12-17T15:23:10.751920Z",
     "iopub.status.idle": "2022-12-17T15:23:10.759069Z",
     "shell.execute_reply": "2022-12-17T15:23:10.758062Z",
     "shell.execute_reply.started": "2022-12-17T15:23:10.752251Z"
    }
   },
   "outputs": [],
   "source": [
    "\"EfficientNetB0 Implementation\"\n",
    "# EfficientNetB0 = EfficientNetB0(weights='imagenet',include_top=False,input_shape=(image_size,image_size,3))\n",
    "# model = EfficientNetB0.output\n",
    "# model = tf.keras.layers.GlobalAveragePooling2D()(model)\n",
    "# model = tf.keras.layers.Dropout(rate=0.5)(model)\n",
    "# model = tf.keras.layers.Dense(4,activation='softmax')(model)\n",
    "# model = tf.keras.models.Model(inputs=EfficientNetB0.input, outputs = model)"
   ]
  },
  {
   "cell_type": "code",
   "execution_count": null,
   "id": "c0e613fb",
   "metadata": {
    "execution": {
     "iopub.execute_input": "2022-12-17T15:23:11.437825Z",
     "iopub.status.busy": "2022-12-17T15:23:11.437041Z",
     "iopub.status.idle": "2022-12-17T15:23:11.446155Z",
     "shell.execute_reply": "2022-12-17T15:23:11.444635Z",
     "shell.execute_reply.started": "2022-12-17T15:23:11.437788Z"
    }
   },
   "outputs": [],
   "source": [
    "\"VGG19 Implementation\"\n",
    "# VGG19 = VGG19(weights='imagenet',include_top=False,input_shape=(image_size,image_size,3))\n",
    "# model = VGG19.output\n",
    "# model = tf.keras.layers.GlobalAveragePooling2D()(model)\n",
    "# model = tf.keras.layers.Dropout(rate=0.5)(model)\n",
    "# model = tf.keras.layers.Dense(4,activation='softmax')(model)\n",
    "# model = tf.keras.models.Model(inputs=VGG19.input, outputs = model)"
   ]
  },
  {
   "cell_type": "code",
   "execution_count": null,
   "id": "77929609",
   "metadata": {
    "execution": {
     "iopub.execute_input": "2022-12-17T15:23:12.083354Z",
     "iopub.status.busy": "2022-12-17T15:23:12.082970Z",
     "iopub.status.idle": "2022-12-17T15:23:12.091300Z",
     "shell.execute_reply": "2022-12-17T15:23:12.090043Z",
     "shell.execute_reply.started": "2022-12-17T15:23:12.083320Z"
    }
   },
   "outputs": [],
   "source": [
    "\"VGG16 Implementation\"\n",
    "# VGG16 = VGG16(weights='imagenet',include_top=False,input_shape=(image_size,image_size,3))\n",
    "# model = VGG16.output\n",
    "# model = tf.keras.layers.GlobalAveragePooling2D()(model)\n",
    "# model = tf.keras.layers.Dropout(rate=0.5)(model)\n",
    "# model = tf.keras.layers.Dense(4,activation='softmax')(model)\n",
    "# model = tf.keras.models.Model(inputs=VGG16.input, outputs = model)"
   ]
  },
  {
   "cell_type": "code",
   "execution_count": null,
   "id": "51d6565f",
   "metadata": {
    "execution": {
     "iopub.execute_input": "2022-12-17T15:23:12.800501Z",
     "iopub.status.busy": "2022-12-17T15:23:12.800094Z",
     "iopub.status.idle": "2022-12-17T15:23:12.807130Z",
     "shell.execute_reply": "2022-12-17T15:23:12.806149Z",
     "shell.execute_reply.started": "2022-12-17T15:23:12.800466Z"
    }
   },
   "outputs": [],
   "source": [
    "\"MobileNet Implementation\"\n",
    "# MobileNet = MobileNet(weights='imagenet',include_top=False,input_shape=(image_size,image_size,3))\n",
    "# model = MobileNet.output\n",
    "# model = tf.keras.layers.GlobalAveragePooling2D()(model)\n",
    "# model = tf.keras.layers.Dropout(rate=0.5)(model)\n",
    "# model = tf.keras.layers.Dense(4,activation='softmax')(model)\n",
    "# model = tf.keras.models.Model(inputs=MobileNet.input, outputs = model)"
   ]
  },
  {
   "cell_type": "code",
   "execution_count": null,
   "id": "6b4c02d1",
   "metadata": {
    "execution": {
     "iopub.execute_input": "2022-12-17T15:23:13.478030Z",
     "iopub.status.busy": "2022-12-17T15:23:13.477636Z",
     "iopub.status.idle": "2022-12-17T15:23:13.483921Z",
     "shell.execute_reply": "2022-12-17T15:23:13.483007Z",
     "shell.execute_reply.started": "2022-12-17T15:23:13.477999Z"
    }
   },
   "outputs": [],
   "source": [
    "\"MobileNetV3Large Implementation\"\n",
    "# MobileNetV3Large = MobileNetV3Large(weights='imagenet',include_top=False,input_shape=(image_size,image_size,3))\n",
    "# model = MobileNetV3Large.output\n",
    "# model = tf.keras.layers.GlobalAveragePooling2D()(model)\n",
    "# model = tf.keras.layers.Dropout(rate=0.5)(model)\n",
    "# model = tf.keras.layers.Dense(4,activation='softmax')(model)\n",
    "# model = tf.keras.models.Model(inputs=MobileNetV3Large.input, outputs = model)"
   ]
  },
  {
   "cell_type": "code",
   "execution_count": null,
   "id": "01f71bd5",
   "metadata": {
    "execution": {
     "iopub.execute_input": "2022-12-17T15:23:14.229275Z",
     "iopub.status.busy": "2022-12-17T15:23:14.228914Z",
     "iopub.status.idle": "2022-12-17T15:23:14.236518Z",
     "shell.execute_reply": "2022-12-17T15:23:14.235167Z",
     "shell.execute_reply.started": "2022-12-17T15:23:14.229244Z"
    }
   },
   "outputs": [],
   "source": [
    "\"VGG16 Implementation\"\n",
    "# VGG16 = VGG16(weights='imagenet',include_top=False,input_shape=(image_size,image_size,3))\n",
    "# model = VGG16.output\n",
    "# model = tf.keras.layers.GlobalAveragePooling2D()(model)\n",
    "# model = tf.keras.layers.Dropout(rate=0.5)(model)\n",
    "# model = tf.keras.layers.Dense(4,activation='softmax')(model)\n",
    "# model = tf.keras.models.Model(inputs=VGG16.input, outputs = model)"
   ]
  },
  {
   "cell_type": "code",
   "execution_count": null,
   "id": "a812475b",
   "metadata": {
    "execution": {
     "iopub.execute_input": "2022-12-17T15:23:14.997411Z",
     "iopub.status.busy": "2022-12-17T15:23:14.997031Z",
     "iopub.status.idle": "2022-12-17T15:23:15.004266Z",
     "shell.execute_reply": "2022-12-17T15:23:15.003125Z",
     "shell.execute_reply.started": "2022-12-17T15:23:14.997378Z"
    }
   },
   "outputs": [],
   "source": [
    "\"ResNet101V2 Implementation\"\n",
    "# ResNet101V2 = ResNet101V2(weights='imagenet',include_top=False,input_shape=(image_size,image_size,3))\n",
    "# model = ResNet101V2.output\n",
    "# model = tf.keras.layers.GlobalAveragePooling2D()(model)\n",
    "# model = tf.keras.layers.Dropout(rate=0.5)(model)\n",
    "# model = tf.keras.layers.Dense(4,activation='softmax')(model)\n",
    "# model = tf.keras.models.Model(inputs=ResNet101V2.input, outputs = model)"
   ]
  },
  {
   "cell_type": "code",
   "execution_count": 6,
   "id": "595d7586",
   "metadata": {
    "execution": {
     "iopub.execute_input": "2022-12-17T15:23:15.768228Z",
     "iopub.status.busy": "2022-12-17T15:23:15.767855Z",
     "iopub.status.idle": "2022-12-17T15:23:15.774927Z",
     "shell.execute_reply": "2022-12-17T15:23:15.773954Z",
     "shell.execute_reply.started": "2022-12-17T15:23:15.768194Z"
    }
   },
   "outputs": [
    {
     "name": "stdout",
     "output_type": "stream",
     "text": [
      "Downloading data from https://storage.googleapis.com/tensorflow/keras-applications/resnet/resnet152v2_weights_tf_dim_ordering_tf_kernels_notop.h5\n",
      "  1196032/234545216 [..............................] - ETA: 2:05:50"
     ]
    },
    {
     "ename": "KeyboardInterrupt",
     "evalue": "",
     "output_type": "error",
     "traceback": [
      "\u001b[1;31m---------------------------------------------------------------------------\u001b[0m",
      "\u001b[1;31mKeyboardInterrupt\u001b[0m                         Traceback (most recent call last)",
      "Cell \u001b[1;32mIn [6], line 2\u001b[0m\n\u001b[0;32m      1\u001b[0m \u001b[38;5;124m\"\u001b[39m\u001b[38;5;124mResNet152V2 Implementation : Best Performed Model\u001b[39m\u001b[38;5;124m\"\u001b[39m\n\u001b[1;32m----> 2\u001b[0m ResNet152V2 \u001b[38;5;241m=\u001b[39m \u001b[43mResNet152V2\u001b[49m\u001b[43m(\u001b[49m\u001b[43mweights\u001b[49m\u001b[38;5;241;43m=\u001b[39;49m\u001b[38;5;124;43m'\u001b[39;49m\u001b[38;5;124;43mimagenet\u001b[39;49m\u001b[38;5;124;43m'\u001b[39;49m\u001b[43m,\u001b[49m\u001b[43minclude_top\u001b[49m\u001b[38;5;241;43m=\u001b[39;49m\u001b[38;5;28;43;01mFalse\u001b[39;49;00m\u001b[43m,\u001b[49m\u001b[43minput_shape\u001b[49m\u001b[38;5;241;43m=\u001b[39;49m\u001b[43m(\u001b[49m\u001b[43mimage_size\u001b[49m\u001b[43m,\u001b[49m\u001b[43mimage_size\u001b[49m\u001b[43m,\u001b[49m\u001b[38;5;241;43m3\u001b[39;49m\u001b[43m)\u001b[49m\u001b[43m)\u001b[49m\n\u001b[0;32m      3\u001b[0m model \u001b[38;5;241m=\u001b[39m ResNet152V2\u001b[38;5;241m.\u001b[39moutput\n\u001b[0;32m      4\u001b[0m model \u001b[38;5;241m=\u001b[39m tf\u001b[38;5;241m.\u001b[39mkeras\u001b[38;5;241m.\u001b[39mlayers\u001b[38;5;241m.\u001b[39mGlobalAveragePooling2D()(model)\n",
      "File \u001b[1;32m~\\Desktop\\B.Sc_Project\\GPU-2022\\lib\\site-packages\\tensorflow\\python\\keras\\applications\\resnet_v2.py:107\u001b[0m, in \u001b[0;36mResNet152V2\u001b[1;34m(include_top, weights, input_tensor, input_shape, pooling, classes, classifier_activation)\u001b[0m\n\u001b[0;32m    104\u001b[0m   x \u001b[38;5;241m=\u001b[39m resnet\u001b[38;5;241m.\u001b[39mstack2(x, \u001b[38;5;241m256\u001b[39m, \u001b[38;5;241m36\u001b[39m, name\u001b[38;5;241m=\u001b[39m\u001b[38;5;124m'\u001b[39m\u001b[38;5;124mconv4\u001b[39m\u001b[38;5;124m'\u001b[39m)\n\u001b[0;32m    105\u001b[0m   \u001b[38;5;28;01mreturn\u001b[39;00m resnet\u001b[38;5;241m.\u001b[39mstack2(x, \u001b[38;5;241m512\u001b[39m, \u001b[38;5;241m3\u001b[39m, stride1\u001b[38;5;241m=\u001b[39m\u001b[38;5;241m1\u001b[39m, name\u001b[38;5;241m=\u001b[39m\u001b[38;5;124m'\u001b[39m\u001b[38;5;124mconv5\u001b[39m\u001b[38;5;124m'\u001b[39m)\n\u001b[1;32m--> 107\u001b[0m \u001b[38;5;28;01mreturn\u001b[39;00m \u001b[43mresnet\u001b[49m\u001b[38;5;241;43m.\u001b[39;49m\u001b[43mResNet\u001b[49m\u001b[43m(\u001b[49m\n\u001b[0;32m    108\u001b[0m \u001b[43m    \u001b[49m\u001b[43mstack_fn\u001b[49m\u001b[43m,\u001b[49m\n\u001b[0;32m    109\u001b[0m \u001b[43m    \u001b[49m\u001b[38;5;28;43;01mTrue\u001b[39;49;00m\u001b[43m,\u001b[49m\n\u001b[0;32m    110\u001b[0m \u001b[43m    \u001b[49m\u001b[38;5;28;43;01mTrue\u001b[39;49;00m\u001b[43m,\u001b[49m\n\u001b[0;32m    111\u001b[0m \u001b[43m    \u001b[49m\u001b[38;5;124;43m'\u001b[39;49m\u001b[38;5;124;43mresnet152v2\u001b[39;49m\u001b[38;5;124;43m'\u001b[39;49m\u001b[43m,\u001b[49m\n\u001b[0;32m    112\u001b[0m \u001b[43m    \u001b[49m\u001b[43minclude_top\u001b[49m\u001b[43m,\u001b[49m\n\u001b[0;32m    113\u001b[0m \u001b[43m    \u001b[49m\u001b[43mweights\u001b[49m\u001b[43m,\u001b[49m\n\u001b[0;32m    114\u001b[0m \u001b[43m    \u001b[49m\u001b[43minput_tensor\u001b[49m\u001b[43m,\u001b[49m\n\u001b[0;32m    115\u001b[0m \u001b[43m    \u001b[49m\u001b[43minput_shape\u001b[49m\u001b[43m,\u001b[49m\n\u001b[0;32m    116\u001b[0m \u001b[43m    \u001b[49m\u001b[43mpooling\u001b[49m\u001b[43m,\u001b[49m\n\u001b[0;32m    117\u001b[0m \u001b[43m    \u001b[49m\u001b[43mclasses\u001b[49m\u001b[43m,\u001b[49m\n\u001b[0;32m    118\u001b[0m \u001b[43m    \u001b[49m\u001b[43mclassifier_activation\u001b[49m\u001b[38;5;241;43m=\u001b[39;49m\u001b[43mclassifier_activation\u001b[49m\u001b[43m)\u001b[49m\n",
      "File \u001b[1;32m~\\Desktop\\B.Sc_Project\\GPU-2022\\lib\\site-packages\\tensorflow\\python\\keras\\applications\\resnet.py:200\u001b[0m, in \u001b[0;36mResNet\u001b[1;34m(stack_fn, preact, use_bias, model_name, include_top, weights, input_tensor, input_shape, pooling, classes, classifier_activation, **kwargs)\u001b[0m\n\u001b[0;32m    198\u001b[0m     file_name \u001b[38;5;241m=\u001b[39m model_name \u001b[38;5;241m+\u001b[39m \u001b[38;5;124m'\u001b[39m\u001b[38;5;124m_weights_tf_dim_ordering_tf_kernels_notop.h5\u001b[39m\u001b[38;5;124m'\u001b[39m\n\u001b[0;32m    199\u001b[0m     file_hash \u001b[38;5;241m=\u001b[39m WEIGHTS_HASHES[model_name][\u001b[38;5;241m1\u001b[39m]\n\u001b[1;32m--> 200\u001b[0m   weights_path \u001b[38;5;241m=\u001b[39m \u001b[43mdata_utils\u001b[49m\u001b[38;5;241;43m.\u001b[39;49m\u001b[43mget_file\u001b[49m\u001b[43m(\u001b[49m\n\u001b[0;32m    201\u001b[0m \u001b[43m      \u001b[49m\u001b[43mfile_name\u001b[49m\u001b[43m,\u001b[49m\n\u001b[0;32m    202\u001b[0m \u001b[43m      \u001b[49m\u001b[43mBASE_WEIGHTS_PATH\u001b[49m\u001b[43m \u001b[49m\u001b[38;5;241;43m+\u001b[39;49m\u001b[43m \u001b[49m\u001b[43mfile_name\u001b[49m\u001b[43m,\u001b[49m\n\u001b[0;32m    203\u001b[0m \u001b[43m      \u001b[49m\u001b[43mcache_subdir\u001b[49m\u001b[38;5;241;43m=\u001b[39;49m\u001b[38;5;124;43m'\u001b[39;49m\u001b[38;5;124;43mmodels\u001b[39;49m\u001b[38;5;124;43m'\u001b[39;49m\u001b[43m,\u001b[49m\n\u001b[0;32m    204\u001b[0m \u001b[43m      \u001b[49m\u001b[43mfile_hash\u001b[49m\u001b[38;5;241;43m=\u001b[39;49m\u001b[43mfile_hash\u001b[49m\u001b[43m)\u001b[49m\n\u001b[0;32m    205\u001b[0m   model\u001b[38;5;241m.\u001b[39mload_weights(weights_path)\n\u001b[0;32m    206\u001b[0m \u001b[38;5;28;01melif\u001b[39;00m weights \u001b[38;5;129;01mis\u001b[39;00m \u001b[38;5;129;01mnot\u001b[39;00m \u001b[38;5;28;01mNone\u001b[39;00m:\n",
      "File \u001b[1;32m~\\Desktop\\B.Sc_Project\\GPU-2022\\lib\\site-packages\\tensorflow\\python\\keras\\utils\\data_utils.py:258\u001b[0m, in \u001b[0;36mget_file\u001b[1;34m(fname, origin, untar, md5_hash, file_hash, cache_subdir, hash_algorithm, extract, archive_format, cache_dir)\u001b[0m\n\u001b[0;32m    256\u001b[0m \u001b[38;5;28;01mtry\u001b[39;00m:\n\u001b[0;32m    257\u001b[0m   \u001b[38;5;28;01mtry\u001b[39;00m:\n\u001b[1;32m--> 258\u001b[0m     \u001b[43murlretrieve\u001b[49m\u001b[43m(\u001b[49m\u001b[43morigin\u001b[49m\u001b[43m,\u001b[49m\u001b[43m \u001b[49m\u001b[43mfpath\u001b[49m\u001b[43m,\u001b[49m\u001b[43m \u001b[49m\u001b[43mdl_progress\u001b[49m\u001b[43m)\u001b[49m\n\u001b[0;32m    259\u001b[0m   \u001b[38;5;28;01mexcept\u001b[39;00m urllib\u001b[38;5;241m.\u001b[39merror\u001b[38;5;241m.\u001b[39mHTTPError \u001b[38;5;28;01mas\u001b[39;00m e:\n\u001b[0;32m    260\u001b[0m     \u001b[38;5;28;01mraise\u001b[39;00m \u001b[38;5;167;01mException\u001b[39;00m(error_msg\u001b[38;5;241m.\u001b[39mformat(origin, e\u001b[38;5;241m.\u001b[39mcode, e\u001b[38;5;241m.\u001b[39mmsg))\n",
      "File \u001b[1;32m~\\AppData\\Local\\Programs\\Python\\Python39\\lib\\urllib\\request.py:268\u001b[0m, in \u001b[0;36murlretrieve\u001b[1;34m(url, filename, reporthook, data)\u001b[0m\n\u001b[0;32m    265\u001b[0m     reporthook(blocknum, bs, size)\n\u001b[0;32m    267\u001b[0m \u001b[38;5;28;01mwhile\u001b[39;00m \u001b[38;5;28;01mTrue\u001b[39;00m:\n\u001b[1;32m--> 268\u001b[0m     block \u001b[38;5;241m=\u001b[39m \u001b[43mfp\u001b[49m\u001b[38;5;241;43m.\u001b[39;49m\u001b[43mread\u001b[49m\u001b[43m(\u001b[49m\u001b[43mbs\u001b[49m\u001b[43m)\u001b[49m\n\u001b[0;32m    269\u001b[0m     \u001b[38;5;28;01mif\u001b[39;00m \u001b[38;5;129;01mnot\u001b[39;00m block:\n\u001b[0;32m    270\u001b[0m         \u001b[38;5;28;01mbreak\u001b[39;00m\n",
      "File \u001b[1;32m~\\AppData\\Local\\Programs\\Python\\Python39\\lib\\http\\client.py:462\u001b[0m, in \u001b[0;36mHTTPResponse.read\u001b[1;34m(self, amt)\u001b[0m\n\u001b[0;32m    459\u001b[0m \u001b[38;5;28;01mif\u001b[39;00m amt \u001b[38;5;129;01mis\u001b[39;00m \u001b[38;5;129;01mnot\u001b[39;00m \u001b[38;5;28;01mNone\u001b[39;00m:\n\u001b[0;32m    460\u001b[0m     \u001b[38;5;66;03m# Amount is given, implement using readinto\u001b[39;00m\n\u001b[0;32m    461\u001b[0m     b \u001b[38;5;241m=\u001b[39m \u001b[38;5;28mbytearray\u001b[39m(amt)\n\u001b[1;32m--> 462\u001b[0m     n \u001b[38;5;241m=\u001b[39m \u001b[38;5;28;43mself\u001b[39;49m\u001b[38;5;241;43m.\u001b[39;49m\u001b[43mreadinto\u001b[49m\u001b[43m(\u001b[49m\u001b[43mb\u001b[49m\u001b[43m)\u001b[49m\n\u001b[0;32m    463\u001b[0m     \u001b[38;5;28;01mreturn\u001b[39;00m \u001b[38;5;28mmemoryview\u001b[39m(b)[:n]\u001b[38;5;241m.\u001b[39mtobytes()\n\u001b[0;32m    464\u001b[0m \u001b[38;5;28;01melse\u001b[39;00m:\n\u001b[0;32m    465\u001b[0m     \u001b[38;5;66;03m# Amount is not given (unbounded read) so we must check self.length\u001b[39;00m\n\u001b[0;32m    466\u001b[0m     \u001b[38;5;66;03m# and self.chunked\u001b[39;00m\n",
      "File \u001b[1;32m~\\AppData\\Local\\Programs\\Python\\Python39\\lib\\http\\client.py:506\u001b[0m, in \u001b[0;36mHTTPResponse.readinto\u001b[1;34m(self, b)\u001b[0m\n\u001b[0;32m    501\u001b[0m         b \u001b[38;5;241m=\u001b[39m \u001b[38;5;28mmemoryview\u001b[39m(b)[\u001b[38;5;241m0\u001b[39m:\u001b[38;5;28mself\u001b[39m\u001b[38;5;241m.\u001b[39mlength]\n\u001b[0;32m    503\u001b[0m \u001b[38;5;66;03m# we do not use _safe_read() here because this may be a .will_close\u001b[39;00m\n\u001b[0;32m    504\u001b[0m \u001b[38;5;66;03m# connection, and the user is reading more bytes than will be provided\u001b[39;00m\n\u001b[0;32m    505\u001b[0m \u001b[38;5;66;03m# (for example, reading in 1k chunks)\u001b[39;00m\n\u001b[1;32m--> 506\u001b[0m n \u001b[38;5;241m=\u001b[39m \u001b[38;5;28;43mself\u001b[39;49m\u001b[38;5;241;43m.\u001b[39;49m\u001b[43mfp\u001b[49m\u001b[38;5;241;43m.\u001b[39;49m\u001b[43mreadinto\u001b[49m\u001b[43m(\u001b[49m\u001b[43mb\u001b[49m\u001b[43m)\u001b[49m\n\u001b[0;32m    507\u001b[0m \u001b[38;5;28;01mif\u001b[39;00m \u001b[38;5;129;01mnot\u001b[39;00m n \u001b[38;5;129;01mand\u001b[39;00m b:\n\u001b[0;32m    508\u001b[0m     \u001b[38;5;66;03m# Ideally, we would raise IncompleteRead if the content-length\u001b[39;00m\n\u001b[0;32m    509\u001b[0m     \u001b[38;5;66;03m# wasn't satisfied, but it might break compatibility.\u001b[39;00m\n\u001b[0;32m    510\u001b[0m     \u001b[38;5;28mself\u001b[39m\u001b[38;5;241m.\u001b[39m_close_conn()\n",
      "File \u001b[1;32m~\\AppData\\Local\\Programs\\Python\\Python39\\lib\\socket.py:704\u001b[0m, in \u001b[0;36mSocketIO.readinto\u001b[1;34m(self, b)\u001b[0m\n\u001b[0;32m    702\u001b[0m \u001b[38;5;28;01mwhile\u001b[39;00m \u001b[38;5;28;01mTrue\u001b[39;00m:\n\u001b[0;32m    703\u001b[0m     \u001b[38;5;28;01mtry\u001b[39;00m:\n\u001b[1;32m--> 704\u001b[0m         \u001b[38;5;28;01mreturn\u001b[39;00m \u001b[38;5;28;43mself\u001b[39;49m\u001b[38;5;241;43m.\u001b[39;49m\u001b[43m_sock\u001b[49m\u001b[38;5;241;43m.\u001b[39;49m\u001b[43mrecv_into\u001b[49m\u001b[43m(\u001b[49m\u001b[43mb\u001b[49m\u001b[43m)\u001b[49m\n\u001b[0;32m    705\u001b[0m     \u001b[38;5;28;01mexcept\u001b[39;00m timeout:\n\u001b[0;32m    706\u001b[0m         \u001b[38;5;28mself\u001b[39m\u001b[38;5;241m.\u001b[39m_timeout_occurred \u001b[38;5;241m=\u001b[39m \u001b[38;5;28;01mTrue\u001b[39;00m\n",
      "File \u001b[1;32m~\\AppData\\Local\\Programs\\Python\\Python39\\lib\\ssl.py:1241\u001b[0m, in \u001b[0;36mSSLSocket.recv_into\u001b[1;34m(self, buffer, nbytes, flags)\u001b[0m\n\u001b[0;32m   1237\u001b[0m     \u001b[38;5;28;01mif\u001b[39;00m flags \u001b[38;5;241m!=\u001b[39m \u001b[38;5;241m0\u001b[39m:\n\u001b[0;32m   1238\u001b[0m         \u001b[38;5;28;01mraise\u001b[39;00m \u001b[38;5;167;01mValueError\u001b[39;00m(\n\u001b[0;32m   1239\u001b[0m           \u001b[38;5;124m\"\u001b[39m\u001b[38;5;124mnon-zero flags not allowed in calls to recv_into() on \u001b[39m\u001b[38;5;132;01m%s\u001b[39;00m\u001b[38;5;124m\"\u001b[39m \u001b[38;5;241m%\u001b[39m\n\u001b[0;32m   1240\u001b[0m           \u001b[38;5;28mself\u001b[39m\u001b[38;5;241m.\u001b[39m\u001b[38;5;18m__class__\u001b[39m)\n\u001b[1;32m-> 1241\u001b[0m     \u001b[38;5;28;01mreturn\u001b[39;00m \u001b[38;5;28;43mself\u001b[39;49m\u001b[38;5;241;43m.\u001b[39;49m\u001b[43mread\u001b[49m\u001b[43m(\u001b[49m\u001b[43mnbytes\u001b[49m\u001b[43m,\u001b[49m\u001b[43m \u001b[49m\u001b[43mbuffer\u001b[49m\u001b[43m)\u001b[49m\n\u001b[0;32m   1242\u001b[0m \u001b[38;5;28;01melse\u001b[39;00m:\n\u001b[0;32m   1243\u001b[0m     \u001b[38;5;28;01mreturn\u001b[39;00m \u001b[38;5;28msuper\u001b[39m()\u001b[38;5;241m.\u001b[39mrecv_into(buffer, nbytes, flags)\n",
      "File \u001b[1;32m~\\AppData\\Local\\Programs\\Python\\Python39\\lib\\ssl.py:1099\u001b[0m, in \u001b[0;36mSSLSocket.read\u001b[1;34m(self, len, buffer)\u001b[0m\n\u001b[0;32m   1097\u001b[0m \u001b[38;5;28;01mtry\u001b[39;00m:\n\u001b[0;32m   1098\u001b[0m     \u001b[38;5;28;01mif\u001b[39;00m buffer \u001b[38;5;129;01mis\u001b[39;00m \u001b[38;5;129;01mnot\u001b[39;00m \u001b[38;5;28;01mNone\u001b[39;00m:\n\u001b[1;32m-> 1099\u001b[0m         \u001b[38;5;28;01mreturn\u001b[39;00m \u001b[38;5;28;43mself\u001b[39;49m\u001b[38;5;241;43m.\u001b[39;49m\u001b[43m_sslobj\u001b[49m\u001b[38;5;241;43m.\u001b[39;49m\u001b[43mread\u001b[49m\u001b[43m(\u001b[49m\u001b[38;5;28;43mlen\u001b[39;49m\u001b[43m,\u001b[49m\u001b[43m \u001b[49m\u001b[43mbuffer\u001b[49m\u001b[43m)\u001b[49m\n\u001b[0;32m   1100\u001b[0m     \u001b[38;5;28;01melse\u001b[39;00m:\n\u001b[0;32m   1101\u001b[0m         \u001b[38;5;28;01mreturn\u001b[39;00m \u001b[38;5;28mself\u001b[39m\u001b[38;5;241m.\u001b[39m_sslobj\u001b[38;5;241m.\u001b[39mread(\u001b[38;5;28mlen\u001b[39m)\n",
      "\u001b[1;31mKeyboardInterrupt\u001b[0m: "
     ]
    }
   ],
   "source": [
    "\"ResNet152V2 Implementation : Best Performed Model\"\n",
    "ResNet152V2 = ResNet152V2(weights='imagenet',include_top=False,input_shape=(image_size,image_size,3))\n",
    "model = ResNet152V2.output\n",
    "model = tf.keras.layers.GlobalAveragePooling2D()(model)\n",
    "model = tf.keras.layers.Dropout(rate=0.5)(model)\n",
    "model = tf.keras.layers.Dense(4,activation='softmax')(model)\n",
    "model = tf.keras.models.Model(inputs=ResNet152V2.input, outputs = model)"
   ]
  },
  {
   "cell_type": "code",
   "execution_count": null,
   "id": "7b1bd869",
   "metadata": {
    "execution": {
     "iopub.execute_input": "2022-12-17T19:20:07.784968Z",
     "iopub.status.busy": "2022-12-17T19:20:07.784622Z",
     "iopub.status.idle": "2022-12-17T19:20:14.816097Z",
     "shell.execute_reply": "2022-12-17T19:20:14.815145Z",
     "shell.execute_reply.started": "2022-12-17T19:20:07.784939Z"
    }
   },
   "outputs": [],
   "source": [
    "\"Xception Implementation\"\n",
    "# Xception = Xception(weights='imagenet',include_top=False,input_shape=(image_size,image_size,3))\n",
    "# model = Xception.output\n",
    "# model = tf.keras.layers.GlobalAveragePooling2D()(model)\n",
    "# model = tf.keras.layers.Dropout(rate=0.5)(model)\n",
    "# model = tf.keras.layers.Dense(4,activation='softmax')(model)\n",
    "# model = tf.keras.models.Model(inputs=Xception.input, outputs = model)"
   ]
  },
  {
   "cell_type": "code",
   "execution_count": 3,
   "id": "c58c235e",
   "metadata": {
    "execution": {
     "iopub.execute_input": "2022-12-17T19:20:18.327726Z",
     "iopub.status.busy": "2022-12-17T19:20:18.327365Z",
     "iopub.status.idle": "2022-12-17T19:20:18.333120Z",
     "shell.execute_reply": "2022-12-17T19:20:18.331500Z",
     "shell.execute_reply.started": "2022-12-17T19:20:18.327697Z"
    }
   },
   "outputs": [],
   "source": [
    "\"\"\"In case http Error\"\"\"\n",
    "# import ssl\n",
    "# ssl._create_default_https_context = ssl._create_unverified_context"
   ]
  },
  {
   "cell_type": "code",
   "execution_count": null,
   "id": "afe93642",
   "metadata": {
    "execution": {
     "iopub.execute_input": "2022-12-17T19:25:18.117910Z",
     "iopub.status.busy": "2022-12-17T19:25:18.117323Z",
     "iopub.status.idle": "2022-12-17T19:25:18.137456Z",
     "shell.execute_reply": "2022-12-17T19:25:18.136520Z",
     "shell.execute_reply.started": "2022-12-17T19:25:18.117876Z"
    }
   },
   "outputs": [],
   "source": [
    "opt = SGD(lr=0.01)\n",
    "model.compile(loss='categorical_crossentropy',optimizer = opt, metrics= ['accuracy'])"
   ]
  },
  {
   "cell_type": "code",
   "execution_count": null,
   "id": "6db27511",
   "metadata": {
    "execution": {
     "iopub.execute_input": "2022-12-17T19:32:18.874830Z",
     "iopub.status.busy": "2022-12-17T19:32:18.874458Z",
     "iopub.status.idle": "2022-12-17T19:32:19.243643Z",
     "shell.execute_reply": "2022-12-17T19:32:19.241984Z",
     "shell.execute_reply.started": "2022-12-17T19:32:18.874799Z"
    }
   },
   "outputs": [],
   "source": [
    "tensorboard = TensorBoard(log_dir = 'logs')\n",
    "csv_logger = CSVLogger('C:\\\\Users\\\\Eurus\\\\Desktop\\\\B.Sc_Project\\\\Visulizations\\\\TrainingLogs\\\\Augmentation_V2\\\\ResNet152V2.csv',separator=\",\")\n",
    "checkpoint = ModelCheckpoint(\"ResNet152V2.h5\",monitor=\"val_accuracy\",save_best_only=True,mode=\"auto\",verbose=1)\n",
    "reduce_lr = ReduceLROnPlateau(monitor = 'val_accuracy', factor = 0.5, patience = 2, min_delta = 0.001,\n",
    "                              mode='auto',verbose=1)"
   ]
  },
  {
   "cell_type": "markdown",
   "id": "e220500c",
   "metadata": {},
   "source": [
    "\"\"\"Augment the each tumor Data separately\"\"\""
   ]
  },
  {
   "cell_type": "code",
   "execution_count": null,
   "id": "93939986",
   "metadata": {
    "execution": {
     "iopub.execute_input": "2022-12-17T15:24:08.089852Z",
     "iopub.status.busy": "2022-12-17T15:24:08.089053Z",
     "iopub.status.idle": "2022-12-17T15:24:08.094304Z",
     "shell.execute_reply": "2022-12-17T15:24:08.093315Z",
     "shell.execute_reply.started": "2022-12-17T15:24:08.089812Z"
    }
   },
   "outputs": [],
   "source": [
    "#  train_generator = train_data_augmentation(idx = 'pituitary_tumor')"
   ]
  },
  {
   "cell_type": "code",
   "execution_count": null,
   "id": "12df6905",
   "metadata": {
    "execution": {
     "iopub.execute_input": "2022-12-17T15:24:08.758241Z",
     "iopub.status.busy": "2022-12-17T15:24:08.757117Z",
     "iopub.status.idle": "2022-12-17T15:24:08.763003Z",
     "shell.execute_reply": "2022-12-17T15:24:08.761825Z",
     "shell.execute_reply.started": "2022-12-17T15:24:08.758197Z"
    }
   },
   "outputs": [],
   "source": [
    "# validation_generator = test_data_augmentation(idx = 'no_tumor')"
   ]
  },
  {
   "cell_type": "code",
   "execution_count": null,
   "id": "57d836ef",
   "metadata": {
    "execution": {
     "iopub.execute_input": "2022-12-17T19:32:27.424263Z",
     "iopub.status.busy": "2022-12-17T19:32:27.423848Z",
     "iopub.status.idle": "2022-12-17T19:32:27.430676Z",
     "shell.execute_reply": "2022-12-17T19:32:27.429342Z",
     "shell.execute_reply.started": "2022-12-17T19:32:27.424229Z"
    }
   },
   "outputs": [],
   "source": [
    "def train_generator(TRAINING_DIR):\n",
    "    \n",
    "    train_datagen = ImageDataGenerator(rescale=1/255)\n",
    "    train_generator = train_datagen.flow_from_directory(directory=TRAINING_DIR, \n",
    "                                                        batch_size=30,\n",
    "                                                        class_mode='categorical',\n",
    "                                                        target_size=(150, 150))\n",
    "    \n",
    "    return train_generator"
   ]
  },
  {
   "cell_type": "code",
   "execution_count": null,
   "id": "fa28c5b2",
   "metadata": {
    "execution": {
     "iopub.execute_input": "2022-12-17T19:32:31.288595Z",
     "iopub.status.busy": "2022-12-17T19:32:31.288209Z",
     "iopub.status.idle": "2022-12-17T19:32:31.296346Z",
     "shell.execute_reply": "2022-12-17T19:32:31.295352Z",
     "shell.execute_reply.started": "2022-12-17T19:32:31.288552Z"
    }
   },
   "outputs": [],
   "source": [
    "def test_generator(TEST_DIR):    \n",
    "    \n",
    "    test_datagen = ImageDataGenerator(rescale=1/255)\n",
    "    test_generator = test_datagen.flow_from_directory(directory=TEST_DIR,\n",
    "                                                      batch_size=30,\n",
    "                                                      class_mode='categorical',\n",
    "                                                      target_size=(150,150))\n",
    "    \n",
    "    return test_generator"
   ]
  },
  {
   "cell_type": "code",
   "execution_count": null,
   "id": "4332b7d0",
   "metadata": {
    "execution": {
     "iopub.execute_input": "2022-12-17T19:32:35.043873Z",
     "iopub.status.busy": "2022-12-17T19:32:35.043528Z",
     "iopub.status.idle": "2022-12-17T19:32:35.048390Z",
     "shell.execute_reply": "2022-12-17T19:32:35.047364Z",
     "shell.execute_reply.started": "2022-12-17T19:32:35.043843Z"
    }
   },
   "outputs": [],
   "source": [
    "Train_Dir = '/kaggle/input/braintumor-2022-augmented/Data/Training'\n",
    "Test_Dir = '/kaggle/input/braintumor-2022-augmented/Data/Testing'"
   ]
  },
  {
   "cell_type": "code",
   "execution_count": null,
   "id": "8376b32a",
   "metadata": {
    "execution": {
     "iopub.execute_input": "2022-12-17T19:32:36.785996Z",
     "iopub.status.busy": "2022-12-17T19:32:36.785634Z",
     "iopub.status.idle": "2022-12-17T19:33:57.463047Z",
     "shell.execute_reply": "2022-12-17T19:33:57.461930Z",
     "shell.execute_reply.started": "2022-12-17T19:32:36.785967Z"
    }
   },
   "outputs": [],
   "source": [
    "train_generator = train_generator(TRAINING_DIR=Train_Dir)"
   ]
  },
  {
   "cell_type": "code",
   "execution_count": null,
   "id": "71121b29",
   "metadata": {
    "execution": {
     "iopub.execute_input": "2022-12-17T19:33:57.468510Z",
     "iopub.status.busy": "2022-12-17T19:33:57.468095Z",
     "iopub.status.idle": "2022-12-17T19:33:57.591328Z",
     "shell.execute_reply": "2022-12-17T19:33:57.590380Z",
     "shell.execute_reply.started": "2022-12-17T19:33:57.468476Z"
    }
   },
   "outputs": [],
   "source": [
    "validation_generator = test_generator(TEST_DIR=Test_Dir)"
   ]
  },
  {
   "cell_type": "code",
   "execution_count": null,
   "id": "4903465d",
   "metadata": {
    "execution": {
     "iopub.execute_input": "2022-12-17T16:49:21.041526Z",
     "iopub.status.busy": "2022-12-17T16:49:21.041137Z",
     "iopub.status.idle": "2022-12-17T16:49:21.046110Z",
     "shell.execute_reply": "2022-12-17T16:49:21.044895Z",
     "shell.execute_reply.started": "2022-12-17T16:49:21.041494Z"
    },
    "scrolled": true
   },
   "outputs": [],
   "source": [
    "# EPOCHS = 15\n",
    "\n",
    "# history_1 = model.fit(\n",
    "#         train_generator,\n",
    "#         steps_per_epoch=250,\n",
    "#         epochs=EPOCHS,\n",
    "#         verbose=1,\n",
    "#         validation_data = validation_generator,\n",
    "#         callbacks=[csv_logger,checkpoint,reduce_lr]\n",
    "#         )"
   ]
  },
  {
   "cell_type": "code",
   "execution_count": null,
   "id": "c9464510",
   "metadata": {},
   "outputs": [],
   "source": []
  },
  {
   "cell_type": "code",
   "execution_count": null,
   "id": "4c280088",
   "metadata": {},
   "outputs": [],
   "source": [
    "# \"\"\"In order to save model as pickle and load it somewhere else\"\"\"\n",
    "# with open('EfficientNetB0_Model', 'wb') as file:\n",
    "#     pickle.dump(history.history, file)"
   ]
  },
  {
   "cell_type": "code",
   "execution_count": null,
   "id": "1a6b11dc",
   "metadata": {},
   "outputs": [],
   "source": [
    "# with open('EfficientNetB0_Model', \"rb\") as file:\n",
    "#     history = pickle.load(file)"
   ]
  },
  {
   "cell_type": "markdown",
   "id": "3984b797",
   "metadata": {},
   "source": [
    "# Visualizations"
   ]
  },
  {
   "cell_type": "code",
   "execution_count": null,
   "id": "c5722c08",
   "metadata": {
    "execution": {
     "iopub.execute_input": "2022-12-17T16:28:29.177529Z",
     "iopub.status.busy": "2022-12-17T16:28:29.176469Z",
     "iopub.status.idle": "2022-12-17T16:28:29.227867Z",
     "shell.execute_reply": "2022-12-17T16:28:29.226701Z",
     "shell.execute_reply.started": "2022-12-17T16:28:29.177489Z"
    },
    "scrolled": true
   },
   "outputs": [],
   "source": [
    "data_1 = pd.read_csv('/kaggle/working/Xception.csv')\n",
    "data_1 = pd.read_csv('/kaggle/working/Xception.csv')\n",
    "data_1 = pd.read_csv('/kaggle/working/Xception.csv')\n",
    "data_1 = pd.read_csv('/kaggle/working/Xception.csv')\n",
    "data_1 = pd.read_csv('/kaggle/working/Xception.csv')"
   ]
  },
  {
   "cell_type": "code",
   "execution_count": null,
   "id": "8a59a3c4",
   "metadata": {
    "execution": {
     "iopub.execute_input": "2022-12-17T16:28:35.430156Z",
     "iopub.status.busy": "2022-12-17T16:28:35.429427Z",
     "iopub.status.idle": "2022-12-17T16:28:36.172653Z",
     "shell.execute_reply": "2022-12-17T16:28:36.171753Z",
     "shell.execute_reply.started": "2022-12-17T16:28:35.430120Z"
    }
   },
   "outputs": [],
   "source": [
    "import plotly.graph_objects as go\n",
    "from plotly.subplots import make_subplots\n",
    "\n",
    "# Create figure with secondary y-axis\n",
    "fig = make_subplots(specs=[[{\"secondary_y\": True}]])\n",
    "\n",
    "# Add traces\n",
    "fig.add_trace(\n",
    "    go.Scatter( y=data_1['val_accuracy'], name=\"Validation Accuracy of 1st Model\"),\n",
    "    secondary_y=True,\n",
    ")\n",
    "\n",
    "# fig.add_trace(\n",
    "#     go.Scatter( y=data_2['val_accuracy'], name=\"Validation Accuracy of 2nd Model\"),\n",
    "#     secondary_y=True,\n",
    "# )\n",
    "\n",
    "# fig.add_trace(\n",
    "#     go.Scatter( y=data_3['val_accuracy'], name=\"Validation Accuracy of 3rd Model\"),\n",
    "#     secondary_y=True,\n",
    "# )\n",
    "\n",
    "# fig.add_trace(\n",
    "#     go.Scatter( y=data_3['val_accuracy'], name=\"Validation Accuracy of 3rd Model\"),\n",
    "#     secondary_y=True,\n",
    "# )\n",
    "\n",
    "# fig.add_trace(\n",
    "#     go.Scatter( y=data_3['val_accuracy'], name=\"Validation Accuracy of 3rd Model\"),\n",
    "#     secondary_y=True,\n",
    "# )\n",
    "\n",
    "# Add figure title\n",
    "fig.update_layout(\n",
    "    title_text=\"Validation Accuracy of Models\"\n",
    ")\n",
    "\n",
    "# Set x-axis title\n",
    "fig.update_xaxes(title_text=\"Epoch\")"
   ]
  },
  {
   "cell_type": "code",
   "execution_count": null,
   "id": "f8951194",
   "metadata": {
    "execution": {
     "iopub.execute_input": "2022-12-17T16:28:41.066193Z",
     "iopub.status.busy": "2022-12-17T16:28:41.065462Z",
     "iopub.status.idle": "2022-12-17T16:28:41.098248Z",
     "shell.execute_reply": "2022-12-17T16:28:41.097372Z",
     "shell.execute_reply.started": "2022-12-17T16:28:41.066157Z"
    }
   },
   "outputs": [],
   "source": [
    "import plotly.graph_objects as go\n",
    "from plotly.subplots import make_subplots\n",
    "\n",
    "# Create figure with secondary y-axis\n",
    "fig = make_subplots(specs=[[{\"secondary_y\": True}]])\n",
    "\n",
    "# Add traces\n",
    "fig.add_trace(\n",
    "    go.Scatter( y=data_1['val_loss'], name=\"Validation Loss\"),\n",
    "    secondary_y=False,\n",
    ")\n",
    "\n",
    "# fig.add_trace(\n",
    "#     go.Scatter( y=history.history['val_loss'], name=\"Validation Loss\"),\n",
    "#     secondary_y=False,\n",
    "# )\n",
    "\n",
    "# fig.add_trace(\n",
    "#     go.Scatter( y=history.history['val_loss'], name=\"Validation Loss\"),\n",
    "#     secondary_y=False,\n",
    "# )\n",
    "\n",
    "# fig.add_trace(\n",
    "#     go.Scatter( y=history.history['val_loss'], name=\"Validation Loss\"),\n",
    "#     secondary_y=False,\n",
    "# )\n",
    "\n",
    "# fig.add_trace(\n",
    "#     go.Scatter( y=history.history['val_loss'], name=\"Validation Loss\"),\n",
    "#     secondary_y=False,\n",
    "# )\n",
    "\n",
    "\n",
    "# Add figure title\n",
    "fig.update_layout(\n",
    "    title_text=\"Train and Validation Loss of V1 Model\"\n",
    ")\n",
    "\n",
    "# Set x-axis title\n",
    "fig.update_xaxes(title_text=\"Epoch\")"
   ]
  },
  {
   "cell_type": "code",
   "execution_count": null,
   "id": "ab7f6b9e",
   "metadata": {},
   "outputs": [],
   "source": []
  },
  {
   "cell_type": "code",
   "execution_count": null,
   "id": "23539cae",
   "metadata": {},
   "outputs": [],
   "source": []
  },
  {
   "cell_type": "code",
   "execution_count": null,
   "id": "2e48f8c9",
   "metadata": {},
   "outputs": [],
   "source": []
  },
  {
   "cell_type": "markdown",
   "id": "bea44916",
   "metadata": {},
   "source": [
    "Load the Tensorboard(In case you wanted more detail)"
   ]
  },
  {
   "cell_type": "code",
   "execution_count": null,
   "id": "51ccadc9",
   "metadata": {},
   "outputs": [],
   "source": [
    "# %load_ext tensorboard"
   ]
  },
  {
   "cell_type": "code",
   "execution_count": null,
   "id": "238bcb73",
   "metadata": {},
   "outputs": [],
   "source": [
    "# %tensorboard --logdir logs"
   ]
  },
  {
   "cell_type": "code",
   "execution_count": null,
   "id": "0b23d73f",
   "metadata": {},
   "outputs": [],
   "source": []
  }
 ],
 "metadata": {
  "kernelspec": {
   "display_name": "Python 3 (ipykernel)",
   "language": "python",
   "name": "python3"
  },
  "language_info": {
   "codemirror_mode": {
    "name": "ipython",
    "version": 3
   },
   "file_extension": ".py",
   "mimetype": "text/x-python",
   "name": "python",
   "nbconvert_exporter": "python",
   "pygments_lexer": "ipython3",
   "version": "3.9.7"
  }
 },
 "nbformat": 4,
 "nbformat_minor": 5
}
