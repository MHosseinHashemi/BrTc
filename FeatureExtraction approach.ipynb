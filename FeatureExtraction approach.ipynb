{
 "cells": [
  {
   "cell_type": "markdown",
   "id": "a497176d",
   "metadata": {},
   "source": [
    "# Import libraries"
   ]
  },
  {
   "cell_type": "code",
   "execution_count": 1,
   "id": "de06d62f",
   "metadata": {
    "execution": {
     "iopub.execute_input": "2022-12-20T15:52:20.468033Z",
     "iopub.status.busy": "2022-12-20T15:52:20.467022Z"
    }
   },
   "outputs": [],
   "source": [
    "import pickle\n",
    "import matplotlib.pyplot as plt\n",
    "import numpy as np\n",
    "import h5py\n",
    "from tensorflow.keras.models import load_model\n",
    "import seaborn as sns\n",
    "import cv2\n",
    "import tensorflow as tf\n",
    "from tensorflow.keras.preprocessing.image import ImageDataGenerator\n",
    "from tqdm import tqdm\n",
    "import os\n",
    "from sklearn.utils import shuffle\n",
    "from sklearn.model_selection import train_test_split\n",
    "\n",
    "#################### Importing wheigts #####################################\n",
    "from tensorflow.keras.applications import EfficientNetB0\n",
    "from tensorflow.keras.applications import EfficientNetB5\n",
    "from tensorflow.keras.applications import MobileNet\n",
    "from tensorflow.keras.applications import MobileNetV3Large\n",
    "from tensorflow.keras.applications import VGG16\n",
    "from tensorflow.keras.applications import VGG19\n",
    "from tensorflow.keras.applications.resnet_v2 import ResNet101V2\n",
    "from tensorflow.keras.applications.resnet_v2 import ResNet152V2\n",
    "from tensorflow.keras.applications import Xception\n",
    "#########################################################\n",
    "\n",
    "from tensorflow.keras.callbacks import EarlyStopping, ReduceLROnPlateau, TensorBoard, ModelCheckpoint, CSVLogger\n",
    "from sklearn.metrics import classification_report,confusion_matrix\n",
    "import ipywidgets as widgets\n",
    "import io\n",
    "from PIL import Image\n",
    "from IPython.display import display,clear_output\n",
    "from warnings import filterwarnings\n",
    "import pandas as pd\n",
    "from tensorflow.keras.optimizers import SGD"
   ]
  },
  {
   "cell_type": "code",
   "execution_count": null,
   "id": "c8a1da05",
   "metadata": {
    "execution": {
     "iopub.execute_input": "2022-12-20T15:56:50.014611Z",
     "iopub.status.busy": "2022-12-20T15:56:50.014183Z",
     "iopub.status.idle": "2022-12-20T15:56:50.178790Z",
     "shell.execute_reply": "2022-12-20T15:56:50.177679Z",
     "shell.execute_reply.started": "2022-12-20T15:56:50.014576Z"
    }
   },
   "outputs": [],
   "source": [
    "import gc\n",
    "gc.collect()"
   ]
  },
  {
   "cell_type": "markdown",
   "id": "fc81deb2",
   "metadata": {},
   "source": [
    "First rename all the files in order to be sure of the results of augmentation"
   ]
  },
  {
   "cell_type": "code",
   "execution_count": null,
   "id": "7832631f",
   "metadata": {},
   "outputs": [],
   "source": [
    "# import os\n",
    " \n",
    "# os.chdir('C:\\\\Users\\\\Eurus\\\\Desktop\\\\B.Sc_Project\\\\Data\\\\Testing\\\\pituitary_tumor')\n",
    "# print(os.getcwd())\n",
    " \n",
    "# for count, f in enumerate(os.listdir()):\n",
    "#     f_name, f_ext = os.path.splitext(f)\n",
    "#     f_name = \"PT_\" + str(count)\n",
    " \n",
    "#     new_name = f'{f_name}{f_ext}'\n",
    "#     os.rename(f, new_name)"
   ]
  },
  {
   "cell_type": "markdown",
   "id": "3ccc0bb9",
   "metadata": {},
   "source": [
    "# In progress .........................................."
   ]
  },
  {
   "cell_type": "code",
   "execution_count": 2,
   "id": "109e5ff4",
   "metadata": {
    "execution": {
     "iopub.execute_input": "2022-12-20T15:56:54.730311Z",
     "iopub.status.busy": "2022-12-20T15:56:54.729860Z",
     "iopub.status.idle": "2022-12-20T15:56:54.734854Z",
     "shell.execute_reply": "2022-12-20T15:56:54.733684Z",
     "shell.execute_reply.started": "2022-12-20T15:56:54.730273Z"
    }
   },
   "outputs": [],
   "source": [
    "# Defining Global Variables\n",
    "image_size = 224\n",
    "def_labels = ['glioma_tumor','meningioma_tumor','pituitary_tumor']\n",
    "# root = 'C:\\\\Users\\\\Eurus\\\\Desktop\\\\B.Sc_Project\\\\Data'\n",
    "# destination = 'C:\\\\Users\\\\Eurus\\\\Desktop\\\\B.Sc_Project\\\\Data\\\\Augmented'"
   ]
  },
  {
   "cell_type": "code",
   "execution_count": null,
   "id": "114c08dc",
   "metadata": {},
   "outputs": [],
   "source": [
    "# def train_data_augmentation(idx):\n",
    "    \n",
    "#     \"\"\"Defining Image augmenter\"\"\"\n",
    "#     train_datagen = ImageDataGenerator(\n",
    "#     zca_whitening=True,\n",
    "#     zca_epsilon=0.00001,\n",
    "#     rotation_range=30,\n",
    "#     width_shift_range=0.17,\n",
    "#     height_shift_range=0.17,\n",
    "#     brightness_range=[1.0,2.25],\n",
    "#     shear_range=10.0,\n",
    "#     channel_shift_range=-5.0,\n",
    "#     fill_mode='nearest',\n",
    "#     horizontal_flip=True,\n",
    "#     vertical_flip=True,\n",
    "#         )\n",
    "    \n",
    "    \n",
    "#     \"\"\"Now we are going to iterate over each label and augment the corresponding images and save them in the different dir\"\"\"\n",
    "#     k = 0\n",
    "#     folderPath = os.path.join(root,'Training',idx) \n",
    "#     for j in tqdm(os.listdir(folderPath)):\n",
    "#         for batch in train_datagen.flow_from_directory(\n",
    "#                         \"C:\\\\Users\\\\Eurus\\\\Desktop\\\\B.Sc_Project\\\\Data\\\\Training\",\n",
    "#                         target_size=(150,150),\n",
    "#                         batch_size=32,\n",
    "#                         shuffle=True,\n",
    "#                         class_mode='categorical',\n",
    "#                         save_to_dir= f\"C:\\\\Users\\\\Eurus\\\\Desktop\\\\B.Sc_Project\\\\Data\\\\Augmented\\\\TrainData_Agmented\\\\{idx}\",\n",
    "#                         save_format=\"jpg\",\n",
    "#                         save_prefix=f'{idx.upper()}_TR_AUG_'):\n",
    "#                         k += 1\n",
    "#                         if k >= 10: \n",
    "#                             break  \n",
    "            \n",
    "#     return train_generator\n",
    "            "
   ]
  },
  {
   "cell_type": "code",
   "execution_count": null,
   "id": "ca6fad57",
   "metadata": {},
   "outputs": [],
   "source": [
    "# def test_data_augmentation(idx):        \n",
    "#     \"\"\"Defining Image augmenter\"\"\"\n",
    "#     # We dont need to Augment the Test Data, atleast not yet! Just resize and shuffle them inside their directory\n",
    "#     validation_datagen = ImageDataGenerator(\n",
    "#     zca_whitening=True,\n",
    "#     zca_epsilon=0.00001,\n",
    "#     rotation_range=30,\n",
    "#     width_shift_range=0.17,\n",
    "#     height_shift_range=0.17,\n",
    "#     brightness_range=[1.0,2.25],\n",
    "#     shear_range=10.0,\n",
    "#     channel_shift_range=-5.0,\n",
    "#     fill_mode='nearest',\n",
    "#     horizontal_flip=True,\n",
    "#     vertical_flip=True\n",
    "#     )\n",
    "    \n",
    "    \n",
    "#     \"\"\"Now we are going to iterate over each label and augment the corresponding images and save them in the different dir\"\"\"    \n",
    "#     k = 0\n",
    "#     folderPath = os.path.join(root,'Testing',idx)    \n",
    "#     for j in tqdm(os.listdir(folderPath)):   \n",
    "#         for batch in validation_datagen.flow_from_directory(\n",
    "#                         \"C:\\\\Users\\\\Eurus\\\\Desktop\\\\B.Sc_Project\\\\Data\\\\Testing\",\n",
    "#                         target_size=(150,150),\n",
    "#                         batch_size=32,\n",
    "#                         save_to_dir=f\"C:\\\\Users\\\\Eurus\\\\Desktop\\\\B.Sc_Project\\\\Data\\\\Augmented\\\\TestData_Augmented\\\\{idx}\",\n",
    "#                         save_format=\"jpg\",\n",
    "#                         save_prefix=f'{idx.upper()}_TS_AUG_',\n",
    "#                         class_mode='categorical',\n",
    "#                         shuffle=True):\n",
    "#                         k += 1\n",
    "#                         if k>= 10: \n",
    "#                             break  \n",
    "    \n",
    "#     return validation_generator"
   ]
  },
  {
   "cell_type": "markdown",
   "id": "b8866ad3",
   "metadata": {},
   "source": [
    "# ..............................................................."
   ]
  },
  {
   "cell_type": "markdown",
   "id": "6b660c07",
   "metadata": {},
   "source": [
    "# Defining a function to create CNN model"
   ]
  },
  {
   "cell_type": "code",
   "execution_count": null,
   "id": "b7a322c3",
   "metadata": {
    "_kg_hide-output": true
   },
   "outputs": [],
   "source": [
    "\"EfficientNetB5 Implementation\"\n",
    "# EfficientNetB5 = EfficientNetB5(weights='imagenet',include_top=False,input_shape=(image_size,image_size,3))\n",
    "# model = EfficientNetB5.output\n",
    "# model = tf.keras.layers.GlobalAveragePooling2D()(model)\n",
    "# model = tf.keras.layers.Dropout(rate=0.5)(model)\n",
    "# model = tf.keras.layers.Dense(4,activation='softmax')(model)\n",
    "# model = tf.keras.models.Model(inputs=EfficientNetB5.input, outputs = model)"
   ]
  },
  {
   "cell_type": "code",
   "execution_count": null,
   "id": "20b6cee0",
   "metadata": {},
   "outputs": [],
   "source": [
    "\"EfficientNetB0 Implementation\"\n",
    "# EfficientNetB0 = EfficientNetB0(weights='imagenet',include_top=False,input_shape=(image_size,image_size,3))\n",
    "# model = EfficientNetB0.output\n",
    "# model = tf.keras.layers.GlobalAveragePooling2D()(model)\n",
    "# model = tf.keras.layers.Dropout(rate=0.5)(model)\n",
    "# model = tf.keras.layers.Dense(4,activation='softmax')(model)\n",
    "# model = tf.keras.models.Model(inputs=EfficientNetB0.input, outputs = model)"
   ]
  },
  {
   "cell_type": "code",
   "execution_count": null,
   "id": "526292fe",
   "metadata": {},
   "outputs": [],
   "source": [
    "\"VGG19 Implementation\"\n",
    "# VGG19 = VGG19(weights='imagenet',include_top=False,input_shape=(image_size,image_size,3))\n",
    "# model = VGG19.output\n",
    "# model = tf.keras.layers.GlobalAveragePooling2D()(model)\n",
    "# model = tf.keras.layers.Dropout(rate=0.5)(model)\n",
    "# model = tf.keras.layers.Dense(4,activation='softmax')(model)\n",
    "# model = tf.keras.models.Model(inputs=VGG19.input, outputs = model)"
   ]
  },
  {
   "cell_type": "code",
   "execution_count": null,
   "id": "c8115778",
   "metadata": {},
   "outputs": [],
   "source": [
    "\"VGG16 Implementation\"\n",
    "# VGG16 = VGG16(weights='imagenet',include_top=False,input_shape=(image_size,image_size,3))\n",
    "# model = VGG16.output\n",
    "# model = tf.keras.layers.GlobalAveragePooling2D()(model)\n",
    "# model = tf.keras.layers.Dropout(rate=0.5)(model)\n",
    "# model = tf.keras.layers.Dense(4,activation='softmax')(model)\n",
    "# model = tf.keras.models.Model(inputs=VGG16.input, outputs = model)"
   ]
  },
  {
   "cell_type": "code",
   "execution_count": null,
   "id": "20209137",
   "metadata": {},
   "outputs": [],
   "source": [
    "\"MobileNet Implementation\"\n",
    "# MobileNet = MobileNet(weights='imagenet',include_top=False,input_shape=(image_size,image_size,3))\n",
    "# model = MobileNet.output\n",
    "# model = tf.keras.layers.GlobalAveragePooling2D()(model)\n",
    "# model = tf.keras.layers.Dropout(rate=0.5)(model)\n",
    "# model = tf.keras.layers.Dense(4,activation='softmax')(model)\n",
    "# model = tf.keras.models.Model(inputs=MobileNet.input, outputs = model)"
   ]
  },
  {
   "cell_type": "code",
   "execution_count": null,
   "id": "7be82c52",
   "metadata": {},
   "outputs": [],
   "source": [
    "\"MobileNetV3Large Implementation\"\n",
    "# MobileNetV3Large = MobileNetV3Large(weights='imagenet',include_top=False,input_shape=(image_size,image_size,3))\n",
    "# model = MobileNetV3Large.output\n",
    "# model = tf.keras.layers.GlobalAveragePooling2D()(model)\n",
    "# model = tf.keras.layers.Dropout(rate=0.5)(model)\n",
    "# model = tf.keras.layers.Dense(4,activation='softmax')(model)\n",
    "# model = tf.keras.models.Model(inputs=MobileNetV3Large.input, outputs = model)"
   ]
  },
  {
   "cell_type": "code",
   "execution_count": null,
   "id": "1ff2722a",
   "metadata": {},
   "outputs": [],
   "source": [
    "\"MobileNetV3Large Implementation\"\n",
    "# VGG16 = VGG16(weights='imagenet',include_top=False,input_shape=(image_size,image_size,3))\n",
    "# model = VGG16.output\n",
    "# model = tf.keras.layers.GlobalAveragePooling2D()(model)\n",
    "# model = tf.keras.layers.Dropout(rate=0.5)(model)\n",
    "# model = tf.keras.layers.Dense(4,activation='softmax')(model)\n",
    "# model = tf.keras.models.Model(inputs=VGG16.input, outputs = model)"
   ]
  },
  {
   "cell_type": "code",
   "execution_count": null,
   "id": "19b755b0",
   "metadata": {},
   "outputs": [],
   "source": [
    "\"ResNet101V2 Implementation\"\n",
    "# ResNet101V2 = ResNet101V2(weights='imagenet',include_top=False,input_shape=(image_size,image_size,3))\n",
    "# model = ResNet101V2.output\n",
    "# model = tf.keras.layers.GlobalAveragePooling2D()(model)\n",
    "# model = tf.keras.layers.Dropout(rate=0.5)(model)\n",
    "# model = tf.keras.layers.Dense(4,activation='softmax')(model)\n",
    "# model = tf.keras.models.Model(inputs=ResNet101V2.input, outputs = model)"
   ]
  },
  {
   "cell_type": "code",
   "execution_count": null,
   "id": "4f2ebee8",
   "metadata": {
    "execution": {
     "iopub.execute_input": "2022-12-20T15:57:31.499445Z",
     "iopub.status.busy": "2022-12-20T15:57:31.499042Z",
     "iopub.status.idle": "2022-12-20T15:57:37.133626Z",
     "shell.execute_reply": "2022-12-20T15:57:37.132564Z",
     "shell.execute_reply.started": "2022-12-20T15:57:31.499412Z"
    }
   },
   "outputs": [],
   "source": [
    "# \"ResNet152V2 Implementation : Best Model\"\n",
    "ResNet152V2 = ResNet152V2(weights='imagenet',include_top=False,input_shape=(image_size,image_size,3))\n",
    "model = ResNet152V2.output\n",
    "model = tf.keras.layers.GlobalAveragePooling2D()(model)\n",
    "model = tf.keras.layers.Dropout(rate=0.5)(model)\n",
    "model = tf.keras.layers.Dense(3,activation='softmax')(model)\n",
    "model = tf.keras.models.Model(inputs=model.input, outputs = model)"
   ]
  },
  {
   "cell_type": "code",
   "execution_count": null,
   "id": "c664c907",
   "metadata": {},
   "outputs": [],
   "source": [
    "model.summary()"
   ]
  },
  {
   "cell_type": "code",
   "execution_count": null,
   "id": "3b858274",
   "metadata": {},
   "outputs": [],
   "source": []
  },
  {
   "cell_type": "code",
   "execution_count": null,
   "id": "3add6bed",
   "metadata": {},
   "outputs": [],
   "source": []
  },
  {
   "cell_type": "code",
   "execution_count": null,
   "id": "e4a0976d",
   "metadata": {},
   "outputs": [],
   "source": []
  },
  {
   "cell_type": "code",
   "execution_count": null,
   "id": "069fbdb6",
   "metadata": {},
   "outputs": [],
   "source": [
    "\"Xception Implementation\"\n",
    "# Xception = Xception(weights='imagenet',include_top=False,input_shape=(image_size,image_size,3))\n",
    "# model = Xception.output\n",
    "# model = tf.keras.layers.GlobalAveragePooling2D()(model)\n",
    "# model = tf.keras.layers.Dropout(rate=0.5)(model)\n",
    "# model = tf.keras.layers.Dense(4,activation='softmax')(model)\n",
    "# model = tf.keras.models.Model(inputs=Xception.input, outputs = model)"
   ]
  },
  {
   "cell_type": "code",
   "execution_count": null,
   "id": "2414cb5c",
   "metadata": {
    "execution": {
     "iopub.execute_input": "2022-12-20T15:57:37.135773Z",
     "iopub.status.busy": "2022-12-20T15:57:37.135397Z",
     "iopub.status.idle": "2022-12-20T15:57:37.142094Z",
     "shell.execute_reply": "2022-12-20T15:57:37.141117Z",
     "shell.execute_reply.started": "2022-12-20T15:57:37.135734Z"
    }
   },
   "outputs": [],
   "source": [
    "# In case http Error\n",
    "# import ssl\n",
    "# ssl._create_default_https_context = ssl._create_unverified_context"
   ]
  },
  {
   "cell_type": "code",
   "execution_count": null,
   "id": "2a6e8d93",
   "metadata": {},
   "outputs": [],
   "source": [
    "# opt = SGD(lr=0.01)\n",
    "# model.compile(loss='categorical_crossentropy',optimizer = opt, metrics= ['accuracy'])"
   ]
  },
  {
   "cell_type": "code",
   "execution_count": null,
   "id": "c742ec2c",
   "metadata": {
    "execution": {
     "iopub.execute_input": "2022-12-20T15:57:39.596508Z",
     "iopub.status.busy": "2022-12-20T15:57:39.595771Z",
     "iopub.status.idle": "2022-12-20T15:57:40.074848Z",
     "shell.execute_reply": "2022-12-20T15:57:40.073771Z",
     "shell.execute_reply.started": "2022-12-20T15:57:39.596459Z"
    }
   },
   "outputs": [],
   "source": [
    "# # tensorboard = TensorBoard(log_dir = 'logs')\n",
    "# # csv_logger = CSVLogger('/kaggle/working/ResNet152V2.csv',separator=\",\")\n",
    "# # checkpoint = ModelCheckpoint(\"ResNet152V2.h5\",monitor=\"val_accuracy\",save_best_only=True,mode=\"auto\",verbose=1)\n",
    "# reduce_lr = ReduceLROnPlateau(monitor = 'val_loss', factor = 0.5, patience = 2, min_delta = 0.001,\n",
    "#                               mode='auto',verbose=1)"
   ]
  },
  {
   "cell_type": "code",
   "execution_count": null,
   "id": "75cc8b11",
   "metadata": {},
   "outputs": [],
   "source": [
    "#  train_generator = train_data_augmentation(idx = 'pituitary_tumor')"
   ]
  },
  {
   "cell_type": "code",
   "execution_count": null,
   "id": "28dcdb9d",
   "metadata": {},
   "outputs": [],
   "source": [
    "# validation_generator = test_data_augmentation(idx = 'no_tumor')"
   ]
  },
  {
   "cell_type": "code",
   "execution_count": null,
   "id": "4a36f90c",
   "metadata": {},
   "outputs": [],
   "source": [
    "# def train_generator(TRAINING_DIR):\n",
    "    \n",
    "#     train_datagen = ImageDataGenerator(rescale=1/255)\n",
    "#     train_generator = train_datagen.flow_from_directory(directory=TRAINING_DIR, \n",
    "#                                                         batch_size=30,\n",
    "#                                                         class_mode='categorical',\n",
    "#                                                         target_size=(224, 224))\n",
    "    \n",
    "#     return train_generator"
   ]
  },
  {
   "cell_type": "code",
   "execution_count": null,
   "id": "02529c4e",
   "metadata": {},
   "outputs": [],
   "source": [
    "# def test_generator(TEST_DIR):    \n",
    "    \n",
    "#     test_datagen = ImageDataGenerator(rescale=1/255)\n",
    "#     test_generator = test_datagen.flow_from_directory(directory=TEST_DIR,\n",
    "#                                                       batch_size=30,\n",
    "#                                                       class_mode='categorical',\n",
    "#                                                       target_size=(224,224))\n",
    "    \n",
    "#     return test_generator"
   ]
  },
  {
   "cell_type": "code",
   "execution_count": null,
   "id": "7f3dde2a",
   "metadata": {
    "execution": {
     "iopub.execute_input": "2022-12-20T15:57:45.405621Z",
     "iopub.status.busy": "2022-12-20T15:57:45.404875Z",
     "iopub.status.idle": "2022-12-20T15:57:45.410397Z",
     "shell.execute_reply": "2022-12-20T15:57:45.409005Z",
     "shell.execute_reply.started": "2022-12-20T15:57:45.405569Z"
    }
   },
   "outputs": [],
   "source": [
    "# Train_Dir = '/kaggle/input/mgp-brain-tumor-classification-2022v1/MGP Brain Tumor Classification _ 2022/Training'\n",
    "# Test_Dir = '/kaggle/input/mgp-brain-tumor-classification-2022v1/MGP Brain Tumor Classification _ 2022/Testing'"
   ]
  },
  {
   "cell_type": "code",
   "execution_count": null,
   "id": "03ff343c",
   "metadata": {
    "execution": {
     "iopub.execute_input": "2022-12-20T15:57:59.100278Z",
     "iopub.status.busy": "2022-12-20T15:57:59.099809Z",
     "iopub.status.idle": "2022-12-20T15:57:59.107203Z",
     "shell.execute_reply": "2022-12-20T15:57:59.106122Z",
     "shell.execute_reply.started": "2022-12-20T15:57:59.100240Z"
    }
   },
   "outputs": [],
   "source": [
    "from keras.preprocessing import image\n",
    "from keras.applications.efficientnet import preprocess_input\n",
    "\n",
    "# # def get_features(path):\n",
    "# #     img = image.load_img(path, target_size=(224,224))\n",
    "# #     img_data = image.img_to_array(img)\n",
    "# #     img_data = np.expand_dims(img_data, axis=0)\n",
    "# #     img_data = preprocess_input(img_data)\n",
    "# #     features = ResNet152V2.predict(img_data)\n",
    "# #     return features\n",
    "\n",
    "# # path = \"/kaggle/input/mgp-brain-tumor-classification-2022v1/MGP Brain Tumor Classification _ 2022/Training/glioma_tumor/GLIOMA_TUMOR_TR_AUG__0_1083908.jpg\""
   ]
  },
  {
   "cell_type": "code",
   "execution_count": null,
   "id": "e20dc0cc",
   "metadata": {
    "execution": {
     "iopub.execute_input": "2022-12-20T15:58:02.199752Z",
     "iopub.status.busy": "2022-12-20T15:58:02.199027Z",
     "iopub.status.idle": "2022-12-20T15:58:07.509969Z",
     "shell.execute_reply": "2022-12-20T15:58:07.508851Z",
     "shell.execute_reply.started": "2022-12-20T15:58:02.199715Z"
    }
   },
   "outputs": [],
   "source": [
    "# deep_features = get_features(path)"
   ]
  },
  {
   "cell_type": "code",
   "execution_count": null,
   "id": "0128d2b1",
   "metadata": {
    "execution": {
     "iopub.execute_input": "2022-12-20T15:58:17.670241Z",
     "iopub.status.busy": "2022-12-20T15:58:17.669831Z",
     "iopub.status.idle": "2022-12-20T15:58:17.677021Z",
     "shell.execute_reply": "2022-12-20T15:58:17.676099Z",
     "shell.execute_reply.started": "2022-12-20T15:58:17.670204Z"
    }
   },
   "outputs": [],
   "source": [
    "# len(deep_features)"
   ]
  },
  {
   "cell_type": "code",
   "execution_count": null,
   "id": "820b9387",
   "metadata": {
    "execution": {
     "iopub.execute_input": "2022-12-20T15:58:41.146911Z",
     "iopub.status.busy": "2022-12-20T15:58:41.146044Z",
     "iopub.status.idle": "2022-12-20T15:58:41.155373Z",
     "shell.execute_reply": "2022-12-20T15:58:41.154103Z",
     "shell.execute_reply.started": "2022-12-20T15:58:41.146870Z"
    }
   },
   "outputs": [],
   "source": [
    "# features_flatten_repr = deep_features.flatten()\n",
    "# print (\"flatten: \", features_flatten_repr.shape)"
   ]
  },
  {
   "cell_type": "code",
   "execution_count": null,
   "id": "02b8668f",
   "metadata": {
    "execution": {
     "iopub.execute_input": "2022-12-20T15:58:56.686025Z",
     "iopub.status.busy": "2022-12-20T15:58:56.685608Z",
     "iopub.status.idle": "2022-12-20T15:58:56.692311Z",
     "shell.execute_reply": "2022-12-20T15:58:56.690981Z",
     "shell.execute_reply.started": "2022-12-20T15:58:56.685988Z"
    }
   },
   "outputs": [],
   "source": [
    "# features_squeeze_repr = deep_features.squeeze()\n",
    "# print (\"squeeze: \", features_squeeze_repr.shape)"
   ]
  },
  {
   "cell_type": "code",
   "execution_count": null,
   "id": "8218dae4",
   "metadata": {
    "execution": {
     "iopub.execute_input": "2022-12-20T16:06:00.282177Z",
     "iopub.status.busy": "2022-12-20T16:06:00.281404Z",
     "iopub.status.idle": "2022-12-20T16:06:00.289729Z",
     "shell.execute_reply": "2022-12-20T16:06:00.288738Z",
     "shell.execute_reply.started": "2022-12-20T16:06:00.282137Z"
    }
   },
   "outputs": [],
   "source": [
    "# Train_Dir"
   ]
  },
  {
   "cell_type": "code",
   "execution_count": null,
   "id": "e965f776",
   "metadata": {},
   "outputs": [],
   "source": [
    "del X \n",
    "gc.collect()"
   ]
  },
  {
   "cell_type": "code",
   "execution_count": null,
   "id": "008ba886",
   "metadata": {
    "execution": {
     "iopub.execute_input": "2022-12-20T16:20:12.060011Z",
     "iopub.status.busy": "2022-12-20T16:20:12.059572Z"
    }
   },
   "outputs": [],
   "source": [
    "GT_features = {}\n",
    "root = 'C:\\\\Users\\\\Eurus\\\\Desktop\\\\B.Sc_Project\\\\Data\\\\Training\\\\glioma_tumor'\n",
    "for idx in os.listdir(root):\n",
    "    # Read them from their path\n",
    "    path = os.path.join(root,idx)\n",
    "    # Load each one of them\n",
    "    img = image.load_img(path, target_size=(224, 224))\n",
    "    # Prep them \n",
    "    img_data = image.img_to_array(img)\n",
    "    img_data = np.expand_dims(img_data, axis=0)\n",
    "    img_data = preprocess_input(img_data)\n",
    "    # Extract the features\n",
    "    features = ResNet152V2.predict(img_data)\n",
    "    \"\"\"Flatten them all and then append them to a dictionary\"\"\"    \n",
    "    features = features.flatten()\n",
    "    GT_features[idx] = features\n"
   ]
  },
  {
   "cell_type": "code",
   "execution_count": null,
   "id": "077b75b8",
   "metadata": {},
   "outputs": [],
   "source": [
    "X = []\n",
    "for idx in GT_features.values():\n",
    "    X.append(idx)\n",
    "    print('done')"
   ]
  },
  {
   "cell_type": "code",
   "execution_count": null,
   "id": "5660b992",
   "metadata": {},
   "outputs": [],
   "source": [
    "del GT_features\n",
    "gc.collect()"
   ]
  },
  {
   "cell_type": "code",
   "execution_count": null,
   "id": "254b4e39",
   "metadata": {},
   "outputs": [],
   "source": [
    "# df1 : PT , df2 : MT , df3 : GT \n",
    "df_3 = pd.DataFrame(X, columns=np.arange(100352))\n",
    "gc.collect()"
   ]
  },
  {
   "cell_type": "code",
   "execution_count": null,
   "id": "0fe6d3dd",
   "metadata": {},
   "outputs": [],
   "source": [
    "df_3"
   ]
  },
  {
   "cell_type": "code",
   "execution_count": null,
   "id": "8d5b4027",
   "metadata": {},
   "outputs": [],
   "source": [
    "# \"\"\"Short snippet to make sure that our code actualy works\"\"\"\n",
    "# temp = pd.DataFrame([[1,2,3],[4,5,6],[7,8,9]], columns=np.arange(3))\n",
    "# temp.columns"
   ]
  },
  {
   "cell_type": "code",
   "execution_count": null,
   "id": "c0cabf78",
   "metadata": {},
   "outputs": [],
   "source": [
    "# \"\"\"Short snippet to make sure that our code actualy works\"\"\"\n",
    "# temp"
   ]
  },
  {
   "cell_type": "code",
   "execution_count": null,
   "id": "bec83ea9",
   "metadata": {},
   "outputs": [],
   "source": [
    "# \"\"\"Short snippet to make sure that our code actualy works\"\"\"\n",
    "# for idx in temp.columns:\n",
    "#     temp[idx] = idx*2\n",
    "# temp\n"
   ]
  },
  {
   "cell_type": "code",
   "execution_count": null,
   "id": "fa3bf64f",
   "metadata": {},
   "outputs": [],
   "source": [
    "# temp"
   ]
  },
  {
   "cell_type": "code",
   "execution_count": null,
   "id": "3f1aa620",
   "metadata": {},
   "outputs": [],
   "source": [
    "# del X\n",
    "# gc.collect()"
   ]
  },
  {
   "cell_type": "code",
   "execution_count": null,
   "id": "9c59d1c4",
   "metadata": {},
   "outputs": [],
   "source": [
    "# temp.to_csv('PTr_features.csv', index=False)"
   ]
  },
  {
   "cell_type": "code",
   "execution_count": null,
   "id": "425dceb2",
   "metadata": {},
   "outputs": [],
   "source": [
    "# del temp \n",
    "# gc.collect()"
   ]
  },
  {
   "cell_type": "code",
   "execution_count": null,
   "id": "3769c30a",
   "metadata": {},
   "outputs": [],
   "source": [
    "# Read the data to calculate variance\n",
    "# df_1 = pd.read_csv('1st_GTr_features.csv')\n",
    "# df_2 = pd.read_csv('1st_PTr_features.csv')\n",
    "# df_3 = pd.read_csv('1st_MTr_features.csv')\n",
    "# df.head()\n",
    "# gc.collect()\n",
    "data = pd.concat([df_1, df_2, df_3], ignore_index=True)\n",
    "data.shape"
   ]
  },
  {
   "cell_type": "code",
   "execution_count": null,
   "id": "bff7098d",
   "metadata": {},
   "outputs": [],
   "source": [
    "data"
   ]
  },
  {
   "cell_type": "code",
   "execution_count": null,
   "id": "a1247db2",
   "metadata": {},
   "outputs": [],
   "source": [
    "data.columns"
   ]
  },
  {
   "cell_type": "code",
   "execution_count": null,
   "id": "a294fd35",
   "metadata": {},
   "outputs": [],
   "source": [
    "del df_1, df_2, df_3\n",
    "gc.collect()"
   ]
  },
  {
   "cell_type": "code",
   "execution_count": null,
   "id": "657118de",
   "metadata": {},
   "outputs": [],
   "source": [
    "# # Read all the data and track its columns, then romeve those columns from the main data\n",
    "# df = pd.read_csv(\"Data_Var_below_055.csv\")\n",
    "# df"
   ]
  },
  {
   "cell_type": "code",
   "execution_count": null,
   "id": "23512dde",
   "metadata": {},
   "outputs": [],
   "source": [
    "# cols = df.columns\n",
    "# del df\n",
    "# gc.collect()"
   ]
  },
  {
   "cell_type": "code",
   "execution_count": null,
   "id": "5f48ce98",
   "metadata": {},
   "outputs": [],
   "source": [
    "# data.to_csv('Data.csv')"
   ]
  },
  {
   "cell_type": "code",
   "execution_count": null,
   "id": "a709b8d1",
   "metadata": {},
   "outputs": [],
   "source": [
    "# data = pd.read_csv('Data_Var_below_01.csv')"
   ]
  },
  {
   "cell_type": "code",
   "execution_count": null,
   "id": "996452a0",
   "metadata": {},
   "outputs": [],
   "source": [
    "# data.drop(['Unnamed: 0'], inplace=True, axis=1)"
   ]
  },
  {
   "cell_type": "code",
   "execution_count": null,
   "id": "1ab492ac",
   "metadata": {},
   "outputs": [],
   "source": [
    "# data"
   ]
  },
  {
   "cell_type": "code",
   "execution_count": null,
   "id": "2356d1b4",
   "metadata": {},
   "outputs": [],
   "source": [
    "# for column in data.columns:\n",
    "#     print(f'{column}')"
   ]
  },
  {
   "cell_type": "code",
   "execution_count": null,
   "id": "be17fa95",
   "metadata": {},
   "outputs": [],
   "source": [
    "# temp = pd.read_csv(\"Data_Var_below_055.csv\")\n",
    "# temp.columns\n",
    "del temp\n",
    "gc.collect()"
   ]
  },
  {
   "cell_type": "code",
   "execution_count": null,
   "id": "8dfc9300",
   "metadata": {},
   "outputs": [],
   "source": [
    "# for index in np.arange(100352):\n",
    "#     if data[f'{index}'].var() < 0.1:\n",
    "#         data.drop([f'{index}'], inplace=True, axis=1)\n",
    "#         print(f'column {index} dropped ...\\n')\n",
    "\n",
    "import numpy as np \n",
    "\n",
    "dropped_values = []\n",
    "for index in data.columns:\n",
    "    if data[index].var() < 0.55:\n",
    "        data.drop([index], inplace=True, axis=1)\n",
    "        dropped_values.append(index)\n",
    "        print(f'column {index} dropped, moving to next ...\\n')"
   ]
  },
  {
   "cell_type": "code",
   "execution_count": null,
   "id": "83245c47",
   "metadata": {},
   "outputs": [],
   "source": [
    "data"
   ]
  },
  {
   "cell_type": "code",
   "execution_count": null,
   "id": "c63b9767",
   "metadata": {},
   "outputs": [],
   "source": [
    "data.to_csv('Full_data_variance_below_055.csv',index=False)"
   ]
  },
  {
   "cell_type": "code",
   "execution_count": null,
   "id": "2c51bdc2",
   "metadata": {},
   "outputs": [],
   "source": [
    "# dropped_values.to_csv('dropped_values.csv', index=False)"
   ]
  },
  {
   "cell_type": "code",
   "execution_count": null,
   "id": "03bdd20c",
   "metadata": {},
   "outputs": [],
   "source": [
    "import csv"
   ]
  },
  {
   "cell_type": "code",
   "execution_count": null,
   "id": "560e3fcc",
   "metadata": {},
   "outputs": [],
   "source": [
    "# with open('dropped_values.csv', 'w', newline='') as file:\n",
    "#     write = csv.writer(file)\n",
    "#     write.writerow(dropped_values)"
   ]
  },
  {
   "cell_type": "code",
   "execution_count": null,
   "id": "fa96f609",
   "metadata": {},
   "outputs": [],
   "source": [
    "# dropped_values"
   ]
  },
  {
   "cell_type": "code",
   "execution_count": null,
   "id": "a0a2cb05",
   "metadata": {},
   "outputs": [],
   "source": [
    "# del df\n",
    "# gc.collect()"
   ]
  },
  {
   "cell_type": "code",
   "execution_count": null,
   "id": "90f028f0",
   "metadata": {},
   "outputs": [],
   "source": [
    "# file = open('Dropped Values.txt', 'r')\n",
    "# # Lines = file.readlines()\n",
    "# Lines = file.read().splitlines()"
   ]
  },
  {
   "cell_type": "code",
   "execution_count": null,
   "id": "3e7f666c",
   "metadata": {},
   "outputs": [],
   "source": [
    "# for line in Lines:\n",
    "#     dropped_values.append(line)\n",
    "#     print('Done')\n",
    "    "
   ]
  },
  {
   "cell_type": "code",
   "execution_count": null,
   "id": "d510fbbc",
   "metadata": {},
   "outputs": [],
   "source": [
    "# len(dropped_values)"
   ]
  },
  {
   "cell_type": "code",
   "execution_count": null,
   "id": "5935bff3",
   "metadata": {},
   "outputs": [],
   "source": [
    "# dropped_values[-401]"
   ]
  },
  {
   "cell_type": "code",
   "execution_count": null,
   "id": "5a2410bd",
   "metadata": {},
   "outputs": [],
   "source": [
    "# dropped_values[-400]"
   ]
  },
  {
   "cell_type": "code",
   "execution_count": null,
   "id": "b23d1bb2",
   "metadata": {},
   "outputs": [],
   "source": [
    "# len(dropped_values)"
   ]
  },
  {
   "cell_type": "code",
   "execution_count": null,
   "id": "8cf3b16a",
   "metadata": {},
   "outputs": [],
   "source": [
    "# with open('dropped_values_v2.csv', 'w', newline='') as File:\n",
    "#     write = csv.writer(File)\n",
    "#     write.writerow(dropped_values)"
   ]
  },
  {
   "cell_type": "code",
   "execution_count": null,
   "id": "01722d44",
   "metadata": {},
   "outputs": [],
   "source": [
    "# temp = pd.read_csv(\"dropped_values_v2.csv\")\n",
    "# temp"
   ]
  },
  {
   "cell_type": "code",
   "execution_count": null,
   "id": "db0d2b62",
   "metadata": {},
   "outputs": [],
   "source": [
    "# data"
   ]
  },
  {
   "cell_type": "code",
   "execution_count": null,
   "id": "ef3042dd",
   "metadata": {},
   "outputs": [],
   "source": [
    "# data.to_csv('Data_Var_below_055.csv', index=False)"
   ]
  },
  {
   "cell_type": "code",
   "execution_count": null,
   "id": "7d8f5421",
   "metadata": {},
   "outputs": [],
   "source": [
    "# data.to_csv('Data_Var_below_01.csv', index=False)"
   ]
  },
  {
   "cell_type": "code",
   "execution_count": null,
   "id": "53ca9419",
   "metadata": {
    "scrolled": true
   },
   "outputs": [],
   "source": [
    "# data = pd.read_csv('Data_Var_below_01.csv')\n",
    "# data\n",
    "import pandas as pd\n",
    "\n",
    "data = pd.read_csv('Data_Var_below_055.csv')\n",
    "data"
   ]
  },
  {
   "cell_type": "code",
   "execution_count": null,
   "id": "fb1cf6e4",
   "metadata": {},
   "outputs": [],
   "source": [
    "!pip install pycaret==2.3.5"
   ]
  },
  {
   "cell_type": "code",
   "execution_count": null,
   "id": "ed3cb225",
   "metadata": {},
   "outputs": [],
   "source": [
    "!pip list"
   ]
  },
  {
   "cell_type": "code",
   "execution_count": null,
   "id": "5a3a6074",
   "metadata": {},
   "outputs": [],
   "source": [
    "# data.insert(51830 , \"Truth\", \"Any\")\n",
    "# data"
   ]
  },
  {
   "cell_type": "code",
   "execution_count": null,
   "id": "5c34fb35",
   "metadata": {},
   "outputs": [],
   "source": [
    "# 1 : glioma_tumor\n",
    "for i in np.arange(0,1000):\n",
    "    data['Truth'].iloc[i] = \"glioma_tumor\""
   ]
  },
  {
   "cell_type": "code",
   "execution_count": null,
   "id": "404833e4",
   "metadata": {},
   "outputs": [],
   "source": [
    "# 2 : pituitary_tumor\n",
    "for i in np.arange(1000,2000):\n",
    "    data['Truth'].iloc[i] = \"pituitary_tumor\""
   ]
  },
  {
   "cell_type": "code",
   "execution_count": null,
   "id": "f262c5a4",
   "metadata": {},
   "outputs": [],
   "source": [
    "# 3 : meningioma_tumor\n",
    "for i in np.arange(2000,3000):\n",
    "    data['Truth'].iloc[i] = \"meningioma_tumor\""
   ]
  },
  {
   "cell_type": "code",
   "execution_count": null,
   "id": "f38faf75",
   "metadata": {},
   "outputs": [],
   "source": [
    "# data"
   ]
  },
  {
   "cell_type": "code",
   "execution_count": null,
   "id": "b741b4b0",
   "metadata": {},
   "outputs": [],
   "source": [
    "# data.to_csv('labeled data.csv', index=False)"
   ]
  },
  {
   "cell_type": "code",
   "execution_count": null,
   "id": "6bc41ee6",
   "metadata": {},
   "outputs": [],
   "source": [
    "# GT : 1\n",
    "# PT : 2\n",
    "# MT : 3\n",
    "data[data['Truth'] == \"glioma_tumor\"]['Truth'] = 1\n",
    "data[data['Truth'] == \"pituitary_tumor\"]['Truth'] = 2\n",
    "data[data['Truth'] == \"meningioma_tumor\"]['Truth'] = 3\n",
    "data"
   ]
  },
  {
   "cell_type": "code",
   "execution_count": null,
   "id": "f03a07b9",
   "metadata": {},
   "outputs": [],
   "source": [
    "from sklearn.decomposition import PCA\n",
    "\n",
    "pca = PCA(n_components = 0.95)\n",
    "pca.fit(data)\n",
    "reduced = pca.transform(data)"
   ]
  },
  {
   "cell_type": "code",
   "execution_count": null,
   "id": "f246f0b6",
   "metadata": {},
   "outputs": [],
   "source": [
    "pca = PCA().fit(c_vac)\n",
    "\n",
    "plt.rcParams[\"figure.figsize\"] = (12,6)\n",
    "\n",
    "fig, ax = plt.subplots()\n",
    "xi = np.arange(1, 10, step=1)\n",
    "y = np.cumsum(pca.explained_variance_ratio_)\n",
    "\n",
    "plt.ylim(0.0,1.1)\n",
    "plt.plot(xi, y, marker='o', linestyle='--', color='b')\n",
    "\n",
    "plt.xlabel('Number of Components')\n",
    "plt.xticks(np.arange(0, 11, step=1)) #change from 0-based array index to 1-based human-readable label\n",
    "plt.ylabel('Cumulative variance (%)')\n",
    "plt.title('The number of components needed to explain variance')\n",
    "\n",
    "plt.axhline(y=0.95, color='r', linestyle='-')\n",
    "plt.text(0.5, 0.85, '95% cut-off threshold', color = 'red', fontsize=16)\n",
    "\n",
    "ax.grid(axis='x')\n",
    "plt.show()"
   ]
  },
  {
   "cell_type": "code",
   "execution_count": null,
   "id": "44aba812",
   "metadata": {},
   "outputs": [],
   "source": []
  },
  {
   "cell_type": "code",
   "execution_count": null,
   "id": "c59ed3a3",
   "metadata": {},
   "outputs": [],
   "source": []
  },
  {
   "cell_type": "code",
   "execution_count": null,
   "id": "cb7db1bf",
   "metadata": {},
   "outputs": [],
   "source": []
  },
  {
   "cell_type": "code",
   "execution_count": null,
   "id": "281e8233",
   "metadata": {},
   "outputs": [],
   "source": []
  }
 ],
 "metadata": {
  "kernelspec": {
   "display_name": "Python 3 (ipykernel)",
   "language": "python",
   "name": "python3"
  },
  "language_info": {
   "codemirror_mode": {
    "name": "ipython",
    "version": 3
   },
   "file_extension": ".py",
   "mimetype": "text/x-python",
   "name": "python",
   "nbconvert_exporter": "python",
   "pygments_lexer": "ipython3",
   "version": "3.9.7"
  }
 },
 "nbformat": 4,
 "nbformat_minor": 5
}
